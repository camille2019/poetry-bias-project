{
 "cells": [
  {
   "cell_type": "code",
   "execution_count": 1,
   "metadata": {
    "collapsed": true
   },
   "outputs": [],
   "source": [
    "import pandas as pd\n",
    "import gzip\n",
    "from collections import defaultdict\n",
    "import numpy as np\n"
   ]
  },
  {
   "cell_type": "code",
   "execution_count": 2,
   "metadata": {
    "collapsed": true
   },
   "outputs": [],
   "source": [
    "def readGz(f):\n",
    "    for l in gzip.open(f):\n",
    "        yield eval(l)"
   ]
  },
  {
   "cell_type": "code",
   "execution_count": 3,
   "metadata": {
    "collapsed": true
   },
   "outputs": [],
   "source": [
    "#Create training and validation set\n",
    "user_to_item={}\n",
    "item_to_user={}\n",
    "item_to_title={}\n",
    "split=0\n",
    "#create training and validation set\n",
    "for l in readGz(\"reviews_Musical_Instruments_5.json.gz\"):\n",
    "    user,item,rating,summary = l['reviewerID'],l['asin'],l['overall'],l['summary']\n",
    "  \n",
    "    \n",
    "    if user in user_to_item.keys():\n",
    "        user_to_item[user].append(item)\n",
    "    else:\n",
    "        user_to_item[user]=[item]\n",
    "        \n",
    "    if item in item_to_user.keys():\n",
    "        item_to_user[item].append(user)\n",
    "    else:\n",
    "        item_to_user[item] = [user]\n",
    "for m in readGz(\"meta_Musical_Instruments.json.gz\"):\n",
    "    item = m['asin']\n",
    "    if 'title' in m:\n",
    "        title = m['title']\n",
    "        if item not in user_to_item.keys():\n",
    "            item_to_title[item]=[title]\n",
    "        \n",
    "    "
   ]
  },
  {
   "cell_type": "code",
   "execution_count": 4,
   "metadata": {
    "collapsed": true
   },
   "outputs": [],
   "source": [
    "#a and b are items\n",
    "def jaccard_similarity(a,b,filtering_type):\n",
    "    if filtering_type == 'item_based':\n",
    "        union_count = 0\n",
    "        total_count = 0\n",
    "        a_users = item_to_user[a] #list of users who bought a\n",
    "        #print(a_users)\n",
    "        b_users = item_to_user[b] #list of users who bought b\n",
    "       # print(b_users)\n",
    "        i = len(intersection(a_users, b_users))\n",
    "        j = len(a_users) + len(b_users) - i\n",
    "        return i/j\n",
    "    if filtering_type == 'user_based':\n",
    "        #a and b will both be users instead of items\n",
    "        union_count = 0\n",
    "        total_count = 0\n",
    "        a_items = user_to_item[a] #list of users who bought a\n",
    "        #print(a_users)\n",
    "        b_items = user_to_item[b] #list of users who bought b\n",
    "       # print(b_users)\n",
    "        i = len(intersection(a_items, b_items))\n",
    "        j = len(a_items) + len(b_items) - i\n",
    "        return i/j\n",
    "    \n",
    "                \n",
    "def intersection(lst1, lst2): \n",
    "    lst3 = [value for value in lst1 if value in lst2] \n",
    "    return lst3"
   ]
  },
  {
   "cell_type": "code",
   "execution_count": 32,
   "metadata": {},
   "outputs": [],
   "source": [
    "def recommendation(user, filtering_type):\n",
    "    if filtering_type == \"item_based\":\n",
    "        max_similarity = 0.0\n",
    "\n",
    "        name = \"Name not in metadata\"\n",
    "        other_items = set(item_to_user.keys()) #ALL ITEMS\n",
    "        print(\"This users purchased items are: \")\n",
    "        for item in user_to_item[user]:\n",
    "            if item in item_to_title.keys():\n",
    "                print(item_to_title[item])\n",
    "                other_items.remove(item) #REMOVE ITEMS USER ALREADY BOUGHT TO GIVE NEW RECOMENDATION\n",
    "        for rec_item in other_items:\n",
    "            #print(\"Non-purchased item\")\n",
    "            #print(rec_item)\n",
    "            for bought_item in user_to_item[user]:\n",
    "             #   print(\"Purchased item\")\n",
    "             #   print(bought_item)\n",
    "                if jaccard_similarity(rec_item, bought_item, 'item_based') > max_similarity:\n",
    "                    reccomendation = rec_item\n",
    "                    max_similarity = jaccard_similarity(rec_item, bought_item, 'item_based')\n",
    "\n",
    "        if reccomendation in item_to_title.keys(): \n",
    "            name = item_to_title[reccomendation]\n",
    "        return name, reccomendation, max_similarity\n",
    "    \n",
    "    if filtering_type == \"user_based\":\n",
    "        print(\"This users purchased items are: \")\n",
    "        for item in user_to_item[user]:\n",
    "            if item in item_to_title.keys():\n",
    "                print(item_to_title[item])\n",
    "        \n",
    "        #Find most similar users with jaccard similarity\n",
    "        all_users = set(user_to_item.keys())\n",
    "        all_users.remove(user)\n",
    "        max_s = 0.0\n",
    "        most_similar_users = set()\n",
    "        for other_user in all_users:\n",
    "            s = jaccard_similarity(user, other_user, 'user_based' ) \n",
    "            if s> max_s:\n",
    "                most_similar_users = set()\n",
    "                most_similar_users.add(other_user)\n",
    "                max_s = s\n",
    "            if s == max_s:\n",
    "                most_similar_users.add(other_user) #account for many users having equal similarity\n",
    "                \n",
    "        #find items similar users buy that given user did not buy\n",
    "        other_user_items = [user_to_item[u] for u in most_similar_users]\n",
    "        other_user_items = set([item for sublist in other_user_items for item in sublist])\n",
    "        print(other_user_items)\n",
    "        max_similarity = 0.0\n",
    "        for i in  user_to_item[user]:\n",
    "            if i in other_user_items:\n",
    "                other_user_items.remove(i)\n",
    "        print(other_user_items)\n",
    "        for rec_item in other_user_items:\n",
    "            #print(other_user_items)\n",
    "            for bought_item in user_to_item[user]:\n",
    "             #   print(user_to_item[user])\n",
    "                if jaccard_similarity(rec_item, bought_item, 'item_based') > max_similarity:\n",
    "                    #print(\"Recomendation assigned\")\n",
    "                    reccomendation = rec_item\n",
    "                    max_similarity = jaccard_similarity(rec_item, bought_item, 'item_based')\n",
    "        if reccomendation in item_to_title.keys(): \n",
    "            name = item_to_title[reccomendation]\n",
    "        return name, reccomendation, max_similarity\n",
    "    \n",
    "    \n",
    "    else:\n",
    "        return \"Filtering type must be 'user_based' or 'item_based.' \"\n",
    "        \n",
    "        # do item-item similarity on these items\n",
    "        "
   ]
  },
  {
   "cell_type": "code",
   "execution_count": 30,
   "metadata": {},
   "outputs": [
    {
     "name": "stdout",
     "output_type": "stream",
     "text": [
      "This users purchased items are: \n",
      "['niceEshop Studio Microphone Mic Wind Screen Pop Filter Mask Shied for Speaking Recording']\n",
      "[\"D'Addario EXL110 Nickel Wound Electric Guitar Strings, Regular Light, 10-46\"]\n",
      "['Visual Sound One Spot Multi-Plug 5 Cable']\n",
      "['Hosa IRG6005 6-Inch Guitar Patch Cable']\n",
      "['Ernie Ball 2222 Hybrid Slinky Nickel Wound Set (9 - 46)']\n",
      "['Danelectro D-1 Fab Distortion Effects Pedal']\n",
      "['Protec Guitar Strap with Leather Ends and Pick Pocket, Black']\n",
      "[\"D'Addario EJ45 Pro-Arte Nylon Classical Guitar Strings, Normal Tension\"]\n",
      "['Dunlop Formula 65 Guitar Polish &amp; Cleaner, 4 Fluid Ounces']\n",
      "['Danelectro D-2 Fab Overdrive Effects Pedal']\n",
      "['On Stage GS7355 Triple Hang It Guitar Stand']\n",
      "['Planet Waves 9V Power Adapter']\n",
      "['Fender Treated Polish Cloth']\n",
      "[\"BIYANG'S &quot;BABY BOOM&quot; RV-10 TRI-REVERB\"]\n"
     ]
    },
    {
     "data": {
      "text/plain": [
       "(['Danelectro D-6 Fab Flange Effects Pedal'], 'B000CBE3GE', 0.25)"
      ]
     },
     "execution_count": 30,
     "metadata": {},
     "output_type": "execute_result"
    }
   ],
   "source": [
    "recommendation('A2IBPI20UZIR0U', 'item_based')"
   ]
  },
  {
   "cell_type": "code",
   "execution_count": 33,
   "metadata": {},
   "outputs": [
    {
     "name": "stdout",
     "output_type": "stream",
     "text": [
      "This users purchased items are: \n",
      "[\"Monster Standard 100 - 21' Instrument Cable -  Straight to Straight 1/4&quot; plugs\"]\n",
      "['Planet Waves Pro Winder String Winder and Cutter']\n",
      "[\"Monster Standard 100 - 21' Instrument Cable - Angled to Straight 1/4&quot; plugs\"]\n",
      "[\"D'Addario EXP15 Coated Phosphor Bronze Acoustic Guitar Strings, Extra Light, 10-47\"]\n",
      "['On-Stage SM7211 Professional Folding Orchestral Music Stand, Black']\n",
      "[\"D'Addario EXL110 Nickel Wound Electric Guitar Strings, Regular Light, 10-46\"]\n",
      "['Hosa CFS606 6 Inch Right Angle FX Pedal Cable - 6 Pack']\n",
      "['GraphTech PP-1122-00 TUSQ Acoustic Guitar Bridge Pins']\n",
      "['Hercules GS414B A/G Guitar Stand']\n",
      "['DUNLOP 220 Jim Chromed Steel Slide']\n",
      "['Clayton Hula Hottie Guitar Picks 1 Dozen Medium']\n",
      "['Planet Waves Humidipak Automatic Humidity Control System (For Guitar)']\n",
      "['Visual Sound One Spot Combo Pack']\n",
      "['Mighty Bright 51810 Duet2 Music Light']\n",
      "['Mighty Bright Orchestra Light, with Adapter and Bag']\n",
      "['TASCAM DR-07MKII Portable Digital Recorder']\n",
      "[\"D'Addario NS Micro Clip-On Tuner\"]\n",
      "['Perfektion Pack of six different colors, 1 foot Guitar - instrument Patch Cables (Right Angle) - Can be used for FX (effects) pedals, Instruments, and More']\n",
      "['Snark SN-8 Super Tight All Instrument Tuner']\n",
      "['Planet Waves NS Tri-Action Capo, Silver']\n",
      "['Planet Waves NS Artist Guitar Capo']\n",
      "[\"D'Addario NYXL0942 Nickel Plated Electric Guitar Strings, Extra Light\"]\n",
      "['Elixir Strings 11182 Acoustic 80/20 Bronze Guitar Strings with NANOWEB Coating, HD Light Gauge']\n",
      "['Elixir Strings 16182 Acoustic Phosphor Bronze Guitar Strings with NANOWEB Coating, HD Light Gauge']\n",
      "{'B00646MZHK', 'B0002F7K7Y', 'B00GTSM8FW', 'B005FKF1PY', 'B008BPI2HE', 'B00JBIVXGC'}\n",
      "set()\n"
     ]
    },
    {
     "ename": "UnboundLocalError",
     "evalue": "local variable 'reccomendation' referenced before assignment",
     "output_type": "error",
     "traceback": [
      "\u001b[1;31m---------------------------------------------------------------------------\u001b[0m",
      "\u001b[1;31mUnboundLocalError\u001b[0m                         Traceback (most recent call last)",
      "\u001b[1;32m<ipython-input-33-d8468aca07b4>\u001b[0m in \u001b[0;36m<module>\u001b[1;34m()\u001b[0m\n\u001b[1;32m----> 1\u001b[1;33m \u001b[0mrecommendation\u001b[0m\u001b[1;33m(\u001b[0m\u001b[1;34m'A3M1PLEYNDEYO8'\u001b[0m\u001b[1;33m,\u001b[0m \u001b[1;34m'user_based'\u001b[0m\u001b[1;33m)\u001b[0m\u001b[1;33m\u001b[0m\u001b[0m\n\u001b[0m",
      "\u001b[1;32m<ipython-input-32-3c87f9f22a6c>\u001b[0m in \u001b[0;36mrecommendation\u001b[1;34m(user, filtering_type)\u001b[0m\n\u001b[0;32m     61\u001b[0m                     \u001b[0mreccomendation\u001b[0m \u001b[1;33m=\u001b[0m \u001b[0mrec_item\u001b[0m\u001b[1;33m\u001b[0m\u001b[0m\n\u001b[0;32m     62\u001b[0m                     \u001b[0mmax_similarity\u001b[0m \u001b[1;33m=\u001b[0m \u001b[0mjaccard_similarity\u001b[0m\u001b[1;33m(\u001b[0m\u001b[0mrec_item\u001b[0m\u001b[1;33m,\u001b[0m \u001b[0mbought_item\u001b[0m\u001b[1;33m,\u001b[0m \u001b[1;34m'item_based'\u001b[0m\u001b[1;33m)\u001b[0m\u001b[1;33m\u001b[0m\u001b[0m\n\u001b[1;32m---> 63\u001b[1;33m         \u001b[1;32mif\u001b[0m \u001b[0mreccomendation\u001b[0m \u001b[1;32min\u001b[0m \u001b[0mitem_to_title\u001b[0m\u001b[1;33m.\u001b[0m\u001b[0mkeys\u001b[0m\u001b[1;33m(\u001b[0m\u001b[1;33m)\u001b[0m\u001b[1;33m:\u001b[0m\u001b[1;33m\u001b[0m\u001b[0m\n\u001b[0m\u001b[0;32m     64\u001b[0m             \u001b[0mname\u001b[0m \u001b[1;33m=\u001b[0m \u001b[0mitem_to_title\u001b[0m\u001b[1;33m[\u001b[0m\u001b[0mreccomendation\u001b[0m\u001b[1;33m]\u001b[0m\u001b[1;33m\u001b[0m\u001b[0m\n\u001b[0;32m     65\u001b[0m         \u001b[1;32mreturn\u001b[0m \u001b[0mname\u001b[0m\u001b[1;33m,\u001b[0m \u001b[0mreccomendation\u001b[0m\u001b[1;33m,\u001b[0m \u001b[0mmax_similarity\u001b[0m\u001b[1;33m\u001b[0m\u001b[0m\n",
      "\u001b[1;31mUnboundLocalError\u001b[0m: local variable 'reccomendation' referenced before assignment"
     ]
    }
   ],
   "source": [
    "recommendation('A3M1PLEYNDEYO8', 'user_based')"
   ]
  },
  {
   "cell_type": "code",
   "execution_count": 27,
   "metadata": {},
   "outputs": [
    {
     "name": "stdout",
     "output_type": "stream",
     "text": [
      "This users purchased items are: \n",
      "['Hosa Cable MCL105 Series Microphone Cables - 5 Foot']\n",
      "['Raxxess PTSW25 Rack Screws with Washers (Pack of 25)']\n",
      "['On Stage MSA9508 Posi-Lok Sidemount Boom']\n",
      "['Behringer MICROMIX MX400 4-Channel Mixer']\n",
      "['Behringer ULTRAVOICE XM1800S Dynamic Cardioid Vocal Microphones, 3-Pack']\n",
      "['American DJ Micro Galaxian Laser Special Effects Lighting']\n",
      "[\"Musician's Gear Tripod Mic Stand w/Fixed Boom Black 2-Pack\"]\n"
     ]
    },
    {
     "data": {
      "text/plain": [
       "(['On Stage MY550 Microphone Extension Attachment Bar'],\n",
       " 'B0002ZO3LK',\n",
       " 0.3333333333333333)"
      ]
     },
     "execution_count": 27,
     "metadata": {},
     "output_type": "execute_result"
    }
   ],
   "source": [
    "recommendation('A1S0HTDO0P4N5V', 'item_based')"
   ]
  },
  {
   "cell_type": "markdown",
   "metadata": {},
   "source": [
    "potential issue: there may be many users that are all equally similar to the user in question, do we base reccomendations on this set of similar users or choose one ? (occurs with user 'A1S0HTDO0P4N5V' below)"
   ]
  },
  {
   "cell_type": "code",
   "execution_count": 25,
   "metadata": {},
   "outputs": [
    {
     "name": "stdout",
     "output_type": "stream",
     "text": [
      "This users purchased items are: \n",
      "['Hosa Cable MCL105 Series Microphone Cables - 5 Foot']\n",
      "['Raxxess PTSW25 Rack Screws with Washers (Pack of 25)']\n",
      "['On Stage MSA9508 Posi-Lok Sidemount Boom']\n",
      "['Behringer MICROMIX MX400 4-Channel Mixer']\n",
      "['Behringer ULTRAVOICE XM1800S Dynamic Cardioid Vocal Microphones, 3-Pack']\n",
      "['American DJ Micro Galaxian Laser Special Effects Lighting']\n",
      "[\"Musician's Gear Tripod Mic Stand w/Fixed Boom Black 2-Pack\"]\n",
      "{'B0002M3OVI', 'B0006M59M6', 'B004Z8VQ2O', 'B0064RIB9A', 'B004FODY6E', 'B000NJ2TIE', 'B001MSS6CS', 'B001JI2KHS', 'B005TO9EPY', 'B000068O1N'}\n",
      "<class 'set'>\n"
     ]
    },
    {
     "data": {
      "text/plain": [
       "(['Hosa Cable STP201 TRS To Dual 1/4 Inch Insert Cable - 3 Feet 3 Inches'],\n",
       " 'B000068O1N',\n",
       " 0.16666666666666666)"
      ]
     },
     "execution_count": 25,
     "metadata": {},
     "output_type": "execute_result"
    }
   ],
   "source": [
    "recommendation('A1S0HTDO0P4N5V', 'user_based')"
   ]
  },
  {
   "cell_type": "code",
   "execution_count": 58,
   "metadata": {
    "collapsed": true
   },
   "outputs": [],
   "source": [
    "# Using a heap\n",
    "# > h = []\n",
    "# >>> heappush(h, (5, 'write code'))\n",
    "# >>> heappush(h, (7, 'release product'))\n",
    "# >>> heappush(h, (1, 'write spec'))\n",
    "# >>> heappush(h, (3, 'create tests'))\n",
    "# >>> heappop(h)\n",
    "# (1, 'write spec')\n",
    "import heapq\n"
   ]
  },
  {
   "cell_type": "code",
   "execution_count": 71,
   "metadata": {
    "collapsed": true
   },
   "outputs": [],
   "source": [
    "def n_recommendations(user, n, filtering_type):\n",
    "    if filtering_type == 'item_based':\n",
    "        name = \"Name not in metadata\"\n",
    "        best_recs = list()\n",
    "        titles = []\n",
    "        other_items = set(item_to_user.keys()) #ALL ITEMS\n",
    "        print(\"This users purchased items are: \")\n",
    "        delete = False\n",
    "        for item in user_to_item[user]:\n",
    "            if item in item_to_title.keys():\n",
    "                print(item_to_title[item]) #print titles of items the user bought\n",
    "            other_items.remove(item) #remove previously purchased items to get a unique recommendation\n",
    "        heapq.heapify(best_recs)\n",
    "        for rec_item in other_items:\n",
    "            for bought_item in user_to_item[user]:\n",
    "\n",
    "                similarity = jaccard_similarity(rec_item, bought_item)\n",
    "                if len(best_recs) < n:\n",
    "                    heapq.heappush(best_recs, (similarity, rec_item))\n",
    "                else:\n",
    "                    smallest = heapq.heappop(best_recs)\n",
    "                    if smallest[0] >= similarity:\n",
    "                        heapq.heappush(best_recs, smallest)\n",
    "                    else:\n",
    "                        heapq.heappush(best_recs, (similarity, rec_item))\n",
    "        for rec in best_recs:\n",
    "            itemid = rec[1] \n",
    "            if itemid in item_to_title.keys():\n",
    "                titles.append(item_to_title[itemid])\n",
    "            else:\n",
    "                titles.append(itemid)\n",
    "        return titles, best_recs\n",
    "    if filtering_type == 'user_based':\n",
    "    else:\n",
    "        return \"Filtering type must be 'user_based' or 'item_based' \""
   ]
  },
  {
   "cell_type": "code",
   "execution_count": 73,
   "metadata": {},
   "outputs": [
    {
     "name": "stdout",
     "output_type": "stream",
     "text": [
      "This users purchased items are: \n",
      "['Hosa Cable MCL105 Series Microphone Cables - 5 Foot']\n",
      "['Raxxess PTSW25 Rack Screws with Washers (Pack of 25)']\n",
      "['On Stage MSA9508 Posi-Lok Sidemount Boom']\n",
      "['Behringer MICROMIX MX400 4-Channel Mixer']\n",
      "['Behringer ULTRAVOICE XM1800S Dynamic Cardioid Vocal Microphones, 3-Pack']\n",
      "['American DJ Micro Galaxian Laser Special Effects Lighting']\n",
      "[\"Musician's Gear Tripod Mic Stand w/Fixed Boom Black 2-Pack\"]\n"
     ]
    },
    {
     "data": {
      "text/plain": [
       "([['CBI MLC20 Low Z XLR Microphone Cable, 20 Foot'],\n",
       "  ['Hosa Cable STP201 TRS To Dual 1/4 Inch Insert Cable - 3 Feet 3 Inches'],\n",
       "  ['On Stage MY550 Microphone Extension Attachment Bar'],\n",
       "  ['Chauvet DJ Bank'],\n",
       "  ['On Stage CM01 Video Camera/Digital Recorder Adapter']],\n",
       " [(0.1568627450980392, 'B000VJJQUU'),\n",
       "  (0.16666666666666666, 'B000068O1N'),\n",
       "  (0.3333333333333333, 'B0002ZO3LK'),\n",
       "  (0.25, 'B001E43SK0'),\n",
       "  (0.2, 'B001GWCC4I')])"
      ]
     },
     "execution_count": 73,
     "metadata": {},
     "output_type": "execute_result"
    }
   ],
   "source": [
    "n_recommendations('A1S0HTDO0P4N5V', 5)"
   ]
  },
  {
   "cell_type": "code",
   "execution_count": 75,
   "metadata": {},
   "outputs": [
    {
     "name": "stdout",
     "output_type": "stream",
     "text": [
      "This users purchased items are: \n",
      "[\"Monster Standard 100 - 21' Instrument Cable -  Straight to Straight 1/4&quot; plugs\"]\n",
      "['Planet Waves Pro Winder String Winder and Cutter']\n",
      "[\"Monster Standard 100 - 21' Instrument Cable - Angled to Straight 1/4&quot; plugs\"]\n",
      "[\"D'Addario EXP15 Coated Phosphor Bronze Acoustic Guitar Strings, Extra Light, 10-47\"]\n",
      "['On-Stage SM7211 Professional Folding Orchestral Music Stand, Black']\n",
      "[\"D'Addario EXL110 Nickel Wound Electric Guitar Strings, Regular Light, 10-46\"]\n",
      "['Hosa CFS606 6 Inch Right Angle FX Pedal Cable - 6 Pack']\n",
      "['GraphTech PP-1122-00 TUSQ Acoustic Guitar Bridge Pins']\n",
      "['Hercules GS414B A/G Guitar Stand']\n",
      "['DUNLOP 220 Jim Chromed Steel Slide']\n",
      "['Clayton Hula Hottie Guitar Picks 1 Dozen Medium']\n",
      "['Planet Waves Humidipak Automatic Humidity Control System (For Guitar)']\n",
      "['Visual Sound One Spot Combo Pack']\n",
      "['Mighty Bright 51810 Duet2 Music Light']\n",
      "['Mighty Bright Orchestra Light, with Adapter and Bag']\n",
      "['TASCAM DR-07MKII Portable Digital Recorder']\n",
      "[\"D'Addario NS Micro Clip-On Tuner\"]\n",
      "['Perfektion Pack of six different colors, 1 foot Guitar - instrument Patch Cables (Right Angle) - Can be used for FX (effects) pedals, Instruments, and More']\n",
      "['Snark SN-8 Super Tight All Instrument Tuner']\n",
      "['Planet Waves NS Tri-Action Capo, Silver']\n",
      "['Planet Waves NS Artist Guitar Capo']\n",
      "[\"D'Addario NYXL0942 Nickel Plated Electric Guitar Strings, Extra Light\"]\n",
      "['Elixir Strings 11182 Acoustic 80/20 Bronze Guitar Strings with NANOWEB Coating, HD Light Gauge']\n",
      "['Elixir Strings 16182 Acoustic Phosphor Bronze Guitar Strings with NANOWEB Coating, HD Light Gauge']\n"
     ]
    },
    {
     "data": {
      "text/plain": [
       "([['Apogee JAM 96k Professional Quality Guitar input for iPad, iPhone and Mac'],\n",
       "  [\"D'Addario EXL120BT Nickel Wound Electric Guitar Strings, Balanced Tension Super Light, 9-40\"],\n",
       "  [\"D'Addario EFX165 FlexSteels Bass Guitar Strings, Custom Light, 45-105, Long Scale\"],\n",
       "  [\"D'Addario EXL120BT Nickel Wound Electric Guitar Strings, Balanced Tension Super Light, 9-40\"],\n",
       "  [\"D'Addario EXL120BT Nickel Wound Electric Guitar Strings, Balanced Tension Super Light, 9-40\"]],\n",
       " [(0.21052631578947367, 'B00H02C9TG'),\n",
       "  (0.25, 'B00AQBT3EW'),\n",
       "  (0.34615384615384615, 'B00HFRXACG'),\n",
       "  (0.2727272727272727, 'B00AQBT3EW'),\n",
       "  (0.2619047619047619, 'B00AQBT3EW')])"
      ]
     },
     "execution_count": 75,
     "metadata": {},
     "output_type": "execute_result"
    }
   ],
   "source": [
    "n_recommendations('A3M1PLEYNDEYO8', 5)"
   ]
  },
  {
   "cell_type": "code",
   "execution_count": 74,
   "metadata": {},
   "outputs": [
    {
     "data": {
      "text/plain": [
       "dict_keys(['A2IBPI20UZIR0U', 'A14VAT5EAX3D9S', 'A195EZSQDW3E21', 'A2C00NNG1ZQQG2', 'A94QU4C90B1AX', 'A2A039TZMZHH9Y', 'A1UPZM995ZAH90', 'AJNFQI3YR6XJ5', 'A3M1PLEYNDEYO8', 'AMNTZU1YQN1TH', 'A2NYK9KWFMJV4Y', 'A35QFQI0M46LWO', 'A2NIT6BKW11XJQ', 'A1C0O09LOLVI39', 'A17SLR18TUMULM', 'A2PD27UKAD3Q00', 'AKSFZ4G1AXYFC', 'A67OJZLHBBUQ9', 'A2EZWZ8MBEDOLN', 'A1CL807EOUPVP1', 'A1GMWTGXW682GB', 'A2G12DY50U700V', 'A3E0CF25A7LD2', 'A2W3CLAYZLDPTV', 'A398X9POBHK69N', 'AXWB93VKVML6K', 'A2FZ4Z0UFA1OR8', 'AXP9CF1UTFRSU', 'A2CCGGDGZ694CT', 'A27DR1VO079F1V', 'A1LQC225SE8UNI', 'AU9BPT3Y3K6J4', 'A14Z9LAETO21KL', 'A2074KEJGRYJV4', 'A7TRK2GG6BHWD', 'A319B090A2POEB', 'A396ELNTQDFYPO', 'A17CU1D2CWXOHB', 'A1S0HTDO0P4N5V', 'A3DWQW2L39RB1S', 'AQQ91U1U4YKDF', 'AA5TINW2RJ195', 'ABC68JUCPTVOE', 'A3W2E6S24BTXXK', 'A3872Y2XH0YDX1', 'A13A81NN0NRD1S', 'A1EUO0BU72JR7T', 'A1H4WSC8JWS59N', 'A3OXHLG6DIBRW8', 'A12ABV9NU02O29', 'A2U1Z3TZ4P76JB', 'A1L7M2JXN4EZCR', 'A37A41GWQFMK3D', 'A2JK2ITE138P7Z', 'A1DVUFG2QSJ6IK', 'A34VZEFXQJJ7AT', 'A1SD1C8XK3Z3V1', 'AKHWZ3S1UVZAO', 'A3LNNEYLGGCO25', 'AMACM7BGUQCZD', 'A38HMS5RYSYF8G', 'A6D91KPQGIDKZ', 'A2RCCN4KEXZGC8', 'A3GAP455S8YH0M', 'A1N06X05VZWO5Y', 'A3TA1UJWRJF9NC', 'A3VPISTBNS66C5', 'A1E5FQZTUM8OC1', 'A3MYWHYZ30WLQJ', 'A1FHOW9NVOH8XR', 'A2VH0UT5EQFB6P', 'A2WYAHJGST6AOT', 'A781ITP3HE2N5', 'AN73VQ17FZVJ8', 'ALUTHT4U058KZ', 'A1A15ECLHM9BQY', 'A1S8R9OAIQT7YI', 'A3RHT4KI3H5TVH', 'AVY8D3ULJTX0H', 'A15BHBF0L0HV1F', 'A1AFN4T80DZ3RR', 'A3DCG2MNPR4BW', 'A3NGAQKJ6X088B', 'A35XRT4BW4I6UD', 'AKYDGCKCY7H9F', 'A19NGYCQ1NCF3W', 'A3UD50M7M72150', 'A2B78RXJ2PB6ZD', 'A18RGYRCEN181M', 'A18LZ6VHS4DK69', 'AQG6AQXC703WD', 'A2YGWCX3DQ6ER0', 'A21VM9WVF8EOSJ', 'A3M48SSAOTBSMW', 'AFLRU6952DEFX', 'A1W3CEEQBJ4GTN', 'A1IR3NR4KRPIJ1', 'A2RS66Y79Q8X0W', 'A34IJACMU8C3IM', 'A2WYF4POBUXL2O', 'A3UPEG3LRWOX16', 'A2QJQ3HSJB4NS', 'A1MVH1WLYDHZ49', 'A2XXBZPQT5EXHV', 'A204ETWOV23HO4', 'A203OCQQ12MAVT', 'A3JUQ2E799OC5B', 'A2PN3GY7I3EKC1', 'A1FCX548TD6DLP', 'A35D9ODUCAMF5G', 'A3UETHIJBL6MCV', 'A2Y8JW5NSY95OL', 'A3FW4THIMBIN6V', 'AT09WGFUM934H', 'A1NAA1R38JSNHV', 'A1F4KCBVDP8S25', 'A4BTCECGQAIUI', 'AROOYR32BS1VL', 'A2F2L5F9OWWVY6', 'A3PL8ENSYWS1PZ', 'A23BIOQUMRC7K5', 'A3OZC468867FW8', 'AJ3MI4QT7339J', 'A3OJ0RGAECAGH8', 'A22LLQ00V32YZJ', 'A2LBHMQ3142G3S', 'AEG2MOBNK5KCA', 'A3V1A3C9DTLPME', 'A3200TEQBFSDRX', 'A3HLW3G0TA8GX1', 'A9J03MF2689TS', 'AQFOCVEBDCYU9', 'A3GSBNVP2LPFRB', 'A37U8NH2CD9EDX', 'A1M957IA3QNX7X', 'AEN6KDJ3AJDK6', 'ALHC64J88LVWO', 'AKDQONDXN72MW', 'A3M05N9UWHIXUI', 'A28P7V9KI7MXP', 'A26JHKA8SNXV6P', 'A1VHCO8RQFIGQJ', 'A2H5GRB3XXEBX0', 'A1LS2UXHG1BYRG', 'A3HCK3UXD6WS4G', 'A2WT46GVYE1ZDD', 'A2BRXREMT5WZJ0', 'A3EUD541ZM0R0R', 'A19JA9J3BFBKNO', 'AKLDKUON6YY0X', 'A2SH4497XM1HET', 'A2QDVOUXE4PYIM', 'A12YXGXV4MATDS', 'A1RHGZOBDC3WQF', 'A6FIAB28IS79', 'A20EZ7E8WUH2GZ', 'A1FI4UL6C50NZJ', 'A223S6N0DBQBHP', 'A10KH8EN77ZKWH', 'A34LQ791ACZ0JC', 'A31XY5BETE8DUC', 'A1C92KYEEU1T0G', 'A2JN6080LXS12H', 'A2EWLWNMF65J5X', 'A1K8E597YAFQQG', 'A2N4QZ92NBKJZZ', 'A3TJMZ2YFNECYN', 'A2MR43RDPZX3J', 'A3VVKC910FN4EK', 'A3IICSS30MRX9M', 'A18X6ZT4AEYVKB', 'A2LSR40ZH18TPH', 'A7E0CJH464L82', 'A2KI91IR3RA7D0', 'A2DKLC2FJTY9OI', 'A1MI9FDCNB3CMR', 'A37AQI4AU3JWSR', 'A217QN6PDMKS1A', 'A32E8LG6I4W2AI', 'AXABTEYS7A4A8', 'A1BN3DBBWLMT6V', 'A3AOB0VF6H0IF4', 'A3DDZ2SENG07MS', 'A18P5I03P4U8AI', 'A1AFH79R6W1QOQ', 'A18C03TA8N26L4', 'A1XXS0OSY2JLHW', 'AW6A4PPENVZY3', 'A2INSN8Z69R0FK', 'AJK15Q9JOEHRH', 'A1ESUYMIG3TZT0', 'AQZ7HGW2FF4ED', 'A3E6FHS8DV037H', 'A1K45HFFFDNP1A', 'A12N7TJQR2RB9W', 'A2CPP7BZKOF9TP', 'AOINAOO0NQRGN', 'A3DGMJN91IUKGU', 'A3IZF3M92E7SI2', 'A3EU3ET85O8ZFX', 'ARID6HRKRWGFW', 'A1A64ANBPFSAT4', 'AUK79PXTAOJP9', 'A3CSSZ6U5J4YS5', 'A2605LYSN10W9', 'AGYH5U11ZKPFB', 'A26HM2R5529NYY', 'A1K323WRUBGWC9', 'A17A1KTVI3DG6U', 'A2Z89YMZZJWBHS', 'A1ARFA1NCN34UV', 'AXX6BZDD8K4JL', 'A3CR1EV98GQ87X', 'A5ZS85C5V40S8', 'A3H4FCMNBYS09K', 'A2RVY2GDMZHH4', 'A109JTUZXO61UY', 'A3EZEP0FX5BC1P', 'A1SCWHXAB2ZK7N', 'AXWI0P2EGDEQT', 'A26SN2CVQM4FKM', 'A165EMA3YTIM6A', 'A1CNDQC2IXGEPN', 'A1S7QABO64Z554', 'A1BH17V8BKLES', 'A1CUB195YB9XKO', 'A1JVHQXG7GST9J', 'AZJPNK73JF3XP', 'A2C7BOQVFH1HLE', 'A2IN5BKM9IQT6Z', 'A2XF1IANVPK7F', 'A56EP6FFRH1YT', 'AFUXETAHFUXFE', 'A1YA2BPU7CVNJD', 'A14PY68SX7D5DV', 'A2J4UAF6RW13WK', 'AAGD3GA9ZVPLQ', 'A3D0PD45BHLXFX', 'A1BTNPMESS99PL', 'A26E1V45R24QVC', 'AQES9A9BCJ7CV', 'AEMC16IPBZORW', 'A2YTKPGZXFFKVK', 'A2FGSRTR4XFHMC', 'A1786LAQ18LHDC', 'A27UAE2PME5TRV', 'A1MH0P8PE6AT4P', 'A2IRI1NFJJJ6MZ', 'A1VQHH85U7PX0', 'A2D9QW4TY8CFB0', 'A16Z3HTUIYPDH8', 'A3GSQE0LXPG9YF', 'AB0XOMFCYELCK', 'A3BH9XC0BVO1AG', 'A3NKSY3I0UW3KK', 'A3UQS40N3PW18L', 'AI45J5737CUGY', 'A3BZ9EP6SSC9MU', 'A12SSZIN555FTL', 'A2PDPIVN721PZ7', 'A5RJ7TM82RH0I', 'A21WZ0YAMX0NLE', 'A2E2CJWPL1YMAR', 'A1AWXXBQRQN13I', 'A1IDPIC36H49JX', 'A1LI9W7A0CYOHV', 'A3EIML9QZO5NZZ', 'AEUG4DYQZJ64Z', 'A3M4FU3WQWJHMP', 'A34G1GTMQGEDUN', 'AQDHNCD25PFE6', 'A3ADSZR7QAQ5U', 'AZBUUKQLYKUCL', 'A22SZV0N4O2FQM', 'A1QE7VZE507TO7', 'AOCBJFQ7UPEOJ', 'AH0XON4XDOF2C', 'ALV33FTOC032I', 'A3USVJXZXK7XRI', 'A2053ZJUGCKUA5', 'A2D0F87RY5YMHN', 'AZE83O4F1IJPR', 'A10H2F00ZOT8S2', 'A2VCXIAWCPQ13P', 'AXP7888CP2222', 'AGDWVRFL81B4O', 'A1T4HGVX32QIYC', 'A1TSW5IJ1LU0RP', 'ASJAKT8DJIAC5', 'AN1RO6C6I78YO', 'A3K96R872MUM3D', 'A20L3BCRCICRSQ', 'A3G5BIFX6VS1OP', 'A31RULW0KNYJ5H', 'AG5L0MYSPPWDC', 'A1SG6JGU7ISEH3', 'AVDW3OAVWWE05', 'A2JZTK0WGJCMGN', 'AMU3EIC4EOPX4', 'ATL0URQ0KUKGZ', 'A3DIN9E5QQZ6VT', 'A1LU9607CVAMIF', 'A15TYOEWBQYF0X', 'A3MDQTWO6NOV1U', 'A3IVULXGE2PB43', 'A2MMH4O7EDNLCV', 'A278CZM7C2OO8A', 'A2RIQKV4OOXME1', 'A3MRBUCGH66JTY', 'A2EDYSY4M8TESS', 'A1GUHIMGFE362L', 'A2ZGEV4CTSCTIZ', 'A3CMXRFIWQCBKQ', 'A2AAS19L5VE69J', 'A25ZBYVW8ZINLM', 'A3KBFCPNQ58YK4', 'A1UMOYYM8HB2A1', 'A23AKO4BZLZ8DE', 'A102MU6ZC9H1N6', 'A18MMME07XZLYO', 'A3BTH66WVCQAM9', 'AXXGP6UT41KAS', 'A26M5O53PHZTKN', 'A3ARSPDQYDZVNS', 'ALAY8GVFBUQ9L', 'A1AUDW7X02EEPJ', 'A3KKTTJACRWL16', 'A3VIIH9ZNJ823H', 'A3AT69S9R8ZWGT', 'A3IKOEE8Z3T6BH', 'A21Q29J3ZWPDNP', 'A2BK5M8IYNF7CV', 'A1EX4410F46C8O', 'A2CMX45JPSCTUJ', 'A2XVE2J5WGCSGX', 'AW97HQETLQ25Y', 'A1365RYO0BLEMI', 'AHCJAJO18KRP1', 'ADH0O8UVJOT10', 'A22Z554ZQ8NFPC', 'A3J2PKECNUGEHO', 'APB6VJX5CNR5C', 'A2B58VXLLOFQKR', 'A2IDOKLAT1MP8X', 'AJBBU53A0X84I', 'A27L5L6I7OSV5B', 'A3HEV9M5RNFB3V', 'A1N4PW6FTMBUSQ', 'A205483DF7XVDE', 'A3OEBPVLF35YQL', 'A2F92AOWTIUIB', 'AZ0LJNEP2VRD1', 'AUUI1FKERRMV2', 'A1CD7IUM2JRPY1', 'A3S737ZGWE1GKY', 'A3MXU3CH4BJ465', 'A3BMYEA3J6RBVV', 'A73CB1NVPYDZ5', 'A3CNFMV0IISC3C', 'A206T0W1VE8K1Q', 'A31HQD6H4SHO2C', 'APEJ8EJCC8PQ8', 'A3DDG0WH5SBF34', 'A2VXKVJV7KIGMD', 'A3JEEPYPEM9V81', 'AWIG50VOI5VUV', 'A34O0KQV4QXWNQ', 'A8ANJNZAZQ6IQ', 'A1V7G6OGGW7AGA', 'AH2F47XZ5L8NR', 'A2FXCGHJLVQTIX', 'A356RFKNIG043B', 'A1C60KQ8VJZBS5', 'A3D42ZX96FA6EW', 'A3MJARDJ31M698', 'A26RLGZUUENC6E', 'A2C2TKHICAZ4RS', 'A1YAAMQT5G88XE', 'A1JNV4K56GG94R', 'A3E7O9NSS47TE8', 'A3APKXMNJAEDQM', 'A1M3XD9UV3PD3I', 'A1IB42LRNA9QLW', 'A8MQNZK3J0UEX', 'A1H4EBBOM66MQ0', 'A24VMSBJAWFRCP', 'A39TYRIZLTCK9P', 'AJGD0VSCUJUP5', 'A3C9F3SZWLWDZF', 'AHMEG9CAAT2KF', 'AREHEVC8J64QA', 'A3775OP5VTX5ON', 'A306YUQBEB2R9T', 'A10NJEIG56RHN5', 'A2SFO875EQ66AB', 'A28FADP9FITQVK', 'A24JUT24W1K3CV', 'A136M3QYHUVN9A', 'A3IELJ39K3QL7', 'A24AQ24CD6865K', 'A2J4GBHSDLP4DF', 'A7KIY7RDFHRN9', 'A13NZBZQ7ZZG5O', 'A32264FNDHOH3Q', 'A2Y1R8CZMTALJP', 'A2GC5JELY3N07V', 'A11INIL2YFJ137', 'A23033Q9WZBG4V', 'A1HPC4BDRLR60', 'A3FQ9WYUHG9CD', 'A2YQTEPCGZ5N7J', 'A1IJUUNPU7L6LA', 'A3MMISYL1GBXH4', 'AMGUVF20JAOG8', 'ALB04NLERUCYC', 'A1B9TIERY43Q8H', 'A1VAUZRF5PUSOZ', 'A6A03NM42KUXL', 'A2F26OVBDC7WWA', 'ABZYVME9NYCQG', 'A19IFF0DGV0T3E', 'A2P5U53IUTDUE6', 'A2X2GEABQXRX7P', 'A2WROWUBLQ9GZZ', 'A3F1GM7ZAZD1SW', 'A87NFCCTUG4PO', 'AITXZ1QOILJ5Z', 'AG8FGAIPRBKIR', 'A1YP96MT6W9FTB', 'A768OB1LNE356', 'AH4HBHRM707WA', 'A3PGQWCSJPCYDH', 'A2T372SGRFAWYP', 'A3K9OQPCI8UJE', 'A1HQN6CNAO683Y', 'A3MKGUUWT9OOY6', 'AGGQFKI536BUW', 'A118PM0B1PGWDA', 'AGH6UUAIAZLMB', 'AJOK2CO9LSF37', 'A346EQ2V4W531N', 'A1Q3YZOVFXRKDZ', 'A1IQKXGJSKTAHP', 'A2MIP3AQVSF2SS', 'A1GOLQ90G6MHK6', 'A33DAMPX4T6K57', 'A1IL0PS2XJB4NS', 'A3GLD5QF1HMGO0', 'A2HWUC980HM1NP', 'A31B0LYT2C92SN', 'A1HW9DAJBYXGDV', 'AXJ19189TLBLJ', 'ACVSCM9GWLNLS', 'A3BMI7VGJT60Y7', 'A327J5R77T2EY3', 'A3GH47E9FF8WN1', 'A3UXW18DP4WSD6', 'A2G2DXPFZKG48W', 'ASP978VO96X7C', 'A3RDS0DJ5EJGA7', 'AI9PZHPNTKPI', 'A3R8TPM1N7HFS4', 'A34WEXT7SIRFE4', 'ARAK8OPNIFLHR', 'A3TOND09136H4A', 'A1AU5K3JMPS3UQ', 'A78J38NU18DDZ', 'A362IZKSMV6MA8', 'A10HYGDU2NITYQ', 'AD5G39PJUJVJ', 'A2RI4QE6EO29CA', 'A36C867ZDP30NQ', 'A2HTMBKL4KE2JH', 'A11E4FWMN9BXJD', 'A39JMLMY96E8CP', 'A26Y7G0VFYUYSL', 'AKDQ6O42VUK1U', 'A2XKZS6UXZWK9M', 'A1UMM894XSEO4F', 'A27S1RZ4JF0S3N', 'A3O9JAQME0YOB0', 'A2N7F3MVCTAOYP', 'A2V9R0KCU8X6EH', 'A2D0F8W7FDBBS6', 'A2XD36ONYLNU5J', 'ACUGOV6HBWDXB', 'AMP0Z3DR4RCH7', 'A310MXGFV4RIK0', 'A37KK1CLMULHE4', 'A2Z84UZPX7064Q', 'A1K582XYLTKUCD', 'AHUIPZZH2UKJG', 'ABEQJOG7TS8GT', 'AQT4V74P38PPU', 'A3412OM2NWNT5E', 'A2NOZB6VZCTOI4', 'A1XNCV67JBJVF7', 'A3QR1W7AD80ZQ0', 'A3DJZHSAW4ANH0', 'A2B1KICX3RPRX3', 'A19Q4B515ENF9C', 'A120FZ2ESIMA63', 'A214MI77WXVK9Q', 'A2XB18IXOKUV82', 'AYQCAPXJ81XTN', 'A158NXQZK3SZ9N', 'A2CKMJU4WD3XDE', 'A1MM26M78136ZP', 'A3PB1FI3R9V7PY', 'A3K6M4WXNTYQEM', 'A3MW5BXUOCCQV0', 'A2W03JTG0K5OKF', 'A1EVEQAR05SY7L', 'A2Z548GT5948WH', 'A1MTN9XWJSA5PI', 'A3TOCY3MSC878', 'A2HDEN9SPBWC5I', 'AMY8AUDIBXHCI', 'A3394J1F9CN9W5', 'A8MTE6SIYM0GY', 'AT9G9PT2K0PLB', 'AR6CAR106LX2Y', 'A1RSRUQVKB5EBO', 'A1LHMSY3Q46PJS', 'AONGA3BHTK0EG', 'A20TFY5J3WNJU2', 'AD4MJT7YYVHP7', 'A23HJIRA5PIMG0', 'A2O2UE0UTPOB0Q', 'A3ITN3125FJETP', 'A2P83FWHR36WN1', 'AOHR2Q90UXF23', 'A3MTR7P9PYAALX', 'A2B3XQ4FCJTKHQ', 'A6LHCT7P53RSA', 'AXXYMIJBD0J9G', 'A39PQ7QR2JFXLV', 'A1DUPFUG526MVF', 'AXMXE3RT660HQ', 'A2W8RH6YUNXH83', 'A13798OPDBLDCO', 'A8L6Z9U1TCP06', 'AAYAXHC63IX1D', 'A3ZBLSAPZB9LE', 'A3L5L7OHXRY03L', 'A12O5B8XNKNBOL', 'AA169UZEJYAV1', 'A23NSKTMSPPBTR', 'A3QSZ2SE3HUSXM', 'ALVPGO19QI1SC', 'AG1ZYSLKQCLMD', 'A8AF0VV2LP4LV', 'A39KDVU5JAXJIF', 'A3G6HCQFH5DE28', 'A2G8O3QXM9EGJS', 'A1XL4YLORJ5IBS', 'A3QTFLU2ZWH7WS', 'A2B5LSF5V85SZA', 'AANXFXLHZPBQU', 'A280VP2CL6ZFZZ', 'A34QHL6I85K3V5', 'A1NPG8GYIXYIVY', 'A1IT51TW0UI2LM', 'A2GVH4P25TXN8M', 'A2JQWSA0GPVSQN', 'A1GM034H7XPDEW', 'A2GA2GM4LWESIC', 'A2BJZRLR99YW75', 'A380AI4SNSJTTY', 'A1T3PBZ7DVBC26', 'A55YZTYSWPH96', 'A2G9UCBLL9YLET', 'A1EW1P6BB16GP6', 'A4XWMOFB1HY04', 'A3RPDN9247BQHK', 'A46D3MTB5LIUY', 'A2CA4YBYSETM02', 'A1YBZOWO2RBIUZ', 'A29GXZXORG2DS0', 'A1NRNLEASOU773', 'AK7X7IXX7WYNJ', 'A28DVY0Q6PPO1J', 'A21V6HGU6SU4JG', 'A32ZC1AIF9B85', 'A1BD73IAW04XMZ', 'A1ZYV05OSO4QZK', 'A3RFWANBUVX4RA', 'A2U7ZM8TAJUFPQ', 'A1MY8258SXRZ8M', 'A2T305UHZJ21L1', 'A149F91FB9WTW6', 'AF331KJH45RIH', 'A1O3P80RRDUV5P', 'A3SUC2DJYHUU9Y', 'A1MCMSRNN2AS1F', 'A2SKZZZBV1XYWP', 'A3NMQFWLXPP8EV', 'AB8JKS38BK9P', 'A202CZ4PJH83G4', 'A1YIGDWVHNNTMU', 'A1EFMEZJESPF76', 'A34QGH6PW5UPA2', 'A3I49HMI4LV6HU', 'AXWEQHTXQWR7Q', 'A33H0WC9MI8OVW', 'A3FBE4WF5KQRR1', 'A3RNEUUWTA78QR', 'A5O3ZBCOLILKQ', 'A3GHV54CDBCKO4', 'AFGRMORWY2QNX', 'AF1I90O6U8VCQ', 'A3MPMALWL0ERCA', 'AB2G1XOBEGWK2', 'A1EMD22HC94SI1', 'A17VW66OGW0ZKA', 'AMVC9WTXYKNJ1', 'A3RPTP7XINQSKI', 'APH7O58XJXKPT', 'AEWYUPCNDV7HY', 'AD175S3OJX0DG', 'AUZ9IPTKJKFDK', 'A3ENT7V0MT34WP', 'A6VXZ1EEPRTLV', 'A24IO6G3W158E4', 'A34EGGJLO553D8', 'A2BT968XSRPP0K', 'A1BK0KBZBCB5V8', 'ATVYABSTW0LIE', 'A2P3Q65JU68Z5M', 'A356YVTEMDX69J', 'A2SHWIOE8TVWJ2', 'A28L530VL9GK5K', 'A1OZ7F08MNF320', 'A3157YGT1NASJ7', 'AG3PVU7DCXZTK', 'A3W2KQ6CLTQ0ZD', 'AA1ZYCEKJGG3A', 'A20OBCQWBKCGZT', 'A2F1O3IYPFAY6M', 'A35JPJHGOSPZX9', 'A2MPM6M93OXIJT', 'A36IOSZXG6HQAU', 'A1P42OZ1MCNAHE', 'A1A9DIM802STMK', 'ATLCEY1YIP1DG', 'A9RAHOMYAQB51', 'A3DOXGBWDJ1MU0', 'A1H55L0BLPCWYF', 'A27WU4E7J23ZS7', 'A1NNBJRXPIDA12', 'A1VFUMY02HJIFY', 'AOGJD9K1UN63X', 'A3I9IGMS9GHW8J', 'AGW1JFTQNX7SZ', 'A3TM9RWCTMIK42', 'A3HN470MGR70D2', 'A3QNHDUBMA6WQM', 'A3QPN05Y1OUX32', 'A5MC7LP0ZBO4Q', 'A3V1EHVB14TKX', 'A32BCTL0HLOXRV', 'A127K5WGHNUUH3', 'A1WQNVR4H66YX9', 'A303039F43KD4E', 'A10N243R7A5ZW3', 'A3NI8JZCL7BZMC', 'A1UKMEC156SHOD', 'A1W228ES4U9GDQ', 'A1LZ7QGWHBHWOD', 'A91PW87FR65XH', 'AQOQUWM58SGFR', 'A2C46HQIZLYJUC', 'A27PF2GVKMJSAA', 'A3NHUK1ISMZCFZ', 'AJCHGS1GND4OA', 'A1R019TURAPFDS', 'A5I7XOLQRH9YE', 'A1UMN04FQ6H32D', 'A3CUYX2VXZM9KO', 'A3FA334BIFOMRD', 'AFS3FQR5JSDVJ', 'A1OGTL9EBDTK3N', 'A1UI4WTBYHYUGD', 'A2MAGKKVHUF21F', 'ABRA676PKBNXG', 'A14FNPHPBHTMO4', 'A2FN5DGPDO01W', 'A35NAFXV5GHZ92', 'A1AA7FK3DPDDL6', 'A5JC41VQDJVU0', 'A2W7M00WSI4JND', 'A395RVQDH28EK9', 'A2KJY8BRDP8RZP', 'AE9C0UNXBV8CB', 'A2PFX6WO88KTYB', 'A3IRXJOT9PY6SE', 'A1L3H6SSKSRNGV', 'AEHDGUE3L90ZS', 'A27GPJSZDRQ1ZW', 'A1MAQQXJZTMSKT', 'AOPFMCP5DXUK0', 'AETQIN7OH0RL9', 'A3CSWB0L9ZLD94', 'AS421KUEDNJ5V', 'A3SS4Y0BDSPDB0', 'A157DYI1PMXDR1', 'A10ZSXTQA264C7', 'ACWJDL1ZYX8RE', 'A3AOPVQ7EZHTWA', 'A3USVXMH3QNRLG', 'A2IPU94WKACV06', 'A1RPTVW5VEOSI', 'A27AD1FFGBVFY0', 'A33F2WVDF74EA7', 'A164BJ2NU1NSJZ', 'A34UQQ1DPQ31IH', 'A32NZIV3FHCK62', 'A2UX9BF36MYEXK', 'A2SBZZ1HSR7WSP', 'A3322FTE1MQQGM', 'A7WNXHL0QNHY7', 'A1RGF9CS1V8O14', 'A1JNNQAUI5FZV', 'A30VX06O5GPY13', 'A1B9Q3SNKI6T5V', 'A3VPJNX40SBP1M', 'A2CJVLER896Q7L', 'A3K24MXK7GFY8', 'A16UCWYG4924HH', 'A9CQXTVLHQBMA', 'AW91VDERXXKGT', 'AT01FH4U3GP0O', 'A1RXH9W4TZB2EF', 'A2P924QJ8N0QO0', 'A110ZEDSNASVCO', 'A1HSW0NIX8VQ07', 'AN5QXK8A9F8LH', 'A38L9I59GH34O0', 'A36PFVYT15GZC2', 'A35M5X7LV6QLFT', 'A39ZK4KYML9463', 'A1DYBNOP47KAE1', 'AU9RL6MBM25YY', 'A3QAILPOPQI3TC', 'A31997Q9ABEIE9', 'A1PO2WOQ0LO73Y', 'AASCUHX7YUC6M', 'A3DZBMO93FHKTH', 'AWQQ1QHCECDJ3', 'A1TJ393OFP21I8', 'ASG42G9QTBUX1', 'A307Y5ACUY4RN6', 'A14BICJ93WO926', 'A341MNU9GWBWKS', 'A3M9FH2OZKYF4D', 'A15RCM1I2ATTXJ', 'A121QRWXZIO6UP', 'A2X68NVO0SGCMC', 'A4M7GUJ0MKZD4', 'A3GJ25QG91UI9Y', 'A15RRJL2HT44J4', 'ADOSJR623FDF1', 'A1OV2BH2S11KBA', 'ADNKG04OS6WNL', 'A1VU51HBF6KIYB', 'A2VDGYUTGIOL86', 'ADRAB7F3AI7OL', 'A14XXL4GMWSI47', 'A38XYO1S5747MY', 'A1DX9PS0UN7EHY', 'A1C92SAQFUBJSZ', 'A24JW33E1DW64K', 'ALLRHBAXXI5BL', 'A1XDIC6OQKYJXW', 'A2CIR2MO07ZIY3', 'A2IIIAR5BGJF4I', 'A2T2SAJS88MYU4', 'AM67EGOF8ACTY', 'A18XPD5BM4U6B1', 'A2TZAS3A5WIUJQ', 'AM9EL9YBP070A', 'A2HHVYBD6H9728', 'A2YSBRBYSI0524', 'A3QK723XT3MJXZ', 'AHUCLL02HS7M5', 'ABBE2DL4IFLM5', 'A3H4S6YO9VNGDZ', 'A3SGZO3N7MXKPV', 'A3T6OAYYMN3F1Q', 'A2FIYXK97CTS6D', 'A3R6V43G6HAJ0Y', 'AB39UO500J4EP', 'A2DG65AWX5RJ4J', 'A13NWJUMVNS6YZ', 'A32VFJX0MAGKIQ', 'A3EXWV8FNSSFL6', 'A2KXINV90T91L8', 'A26NQIGPSFBU5Z', 'ANQRGI79HHJPQ', 'A1O7G2PW6LGL0G', 'A95J3RNEFN425', 'A3CMSCWXZIVJQ1', 'A31BL556QXBJBZ', 'A30GZDBGNP2366', 'AGKM79EXVZHPL', 'A24VCDADYAIHAM', 'A2WZWY5MQTXO0R', 'A15N5RY4YGRQRQ', 'A2M8T1A4O0GS72', 'A1U3T27RHRIDYN', 'A1N82BBPB5816P', 'A1EMTRDX5PBNCP', 'A2UYE434RFINE', 'A2IC4MEKF2Y6IF', 'A19WXFFQMKES6O', 'A27KQGXAU8Z7OT', 'A3IURSDK689G7M', 'A13KBLFF4IZF7H', 'A2Z15UQEUTE3T9', 'A34BZPTKSY68PB', 'A2AH7HRHDTQENH', 'A1R1F7IOPSLMD', 'A15WZCSME5X74S', 'A52GGV55KT8AV', 'A1WD8RFNIGRPDH', 'A3NTAQ473SV08U', 'A1GXG8FTXEA72D', 'A2895CKKVDHVDM', 'A1K2VGY3VJ6XI0', 'A13T4T3QOSII3I', 'AXU9VX024GPSS', 'A2XL6TZM34HFV3', 'ALA9EIJ7G1SCF', 'A1CF9IF5FWYNU0', 'A2D91EJR5M0CUP', 'AFB7MSIPJIW68', 'A10FM4ILBIMJJ7', 'A85AE6BNHXAXR', 'A1Q94IXHEGQDV7', 'A1L2S18BTJE1BZ', 'A3HEPYV00SNCQA', 'A2O52ICJCRQYVK', 'ALVO1A5UB8DG0', 'A1AGIP0FLI2VZW', 'A3HKZSCGFU9T2A', 'A2AWJRUEY9IG4B', 'A6GXP9ESXIH7O', 'A1VOONTYYM0SDA', 'A1EQYR35KLTECN', 'A2Z3FDWL7DQD76', 'A2SREOQJ9OEDLE', 'A9P4Q7KX35RS2', 'AN5ISBOQ5U7C', 'A2U67NUNCRHVO7', 'A38UFP5UJLYLMC', 'A2GUE6E3DUYX03', 'A37E0KYNJQNP1E', 'ANU2BFZ9STYXU', 'A1HTV2563HTSQV', 'A3G21YYF2EXCS8', 'A2QPZKGUDE7RJ4', 'A2KKZHISX9YKMI', 'A2XKROL6XBFHT3', 'AKALIDNS3NMZ7', 'AKT2VSLZHDD81', 'A3UFHRHJ82TL1W', 'A3SDJ70H00OQCJ', 'A35P0LNBJ0WUPL', 'A21GCOGHDQNHQS', 'A7IBOCJ0K4V8C', 'A2UDGB5BTYY51', 'AHQTXJQX2584I', 'A2AJKYCZ1WC4UP', 'A3PQULECO9OAV6', 'A109ME7C09HM2M', 'A30J7WQV0ZNRXG', 'A2Y7BSQG9V3LNG', 'A3MZWM75KSM1P6', 'A3R8XCQYDNQIAA', 'A3VDSGNIS92OVZ', 'A2ZBSEZ211C4QW', 'AOY459LVUBKLO', 'A3UZITVEOSRRHD', 'A6KYDNP84GGGJ', 'A3BEKIXEMSZ9PL', 'A1N46MR82AUE4T', 'A1TSKKBNV38E8Y', 'A3LOJ2QHXITCF7', 'A35HTG0YUEKFGM', 'A1VG6TG6LKBPKP', 'A2158NV89I72OP', 'A34KO3JNKTZU6Y', 'A3A3ZCWP7Z4V4K', 'A2S9M3F1Z2XIQG', 'ASNGOBUI6WHNV', 'A7ZP18XOIJADI', 'A2TBAUW2W7J538', 'A256QA9N8ZK520', 'AWKVQQZKTRFAL', 'A3N27L13CWJ9HY', 'A2G3VQU2GRN8BU', 'A3P2J1W1RBUX6Q', 'A13TQHVN7WBUPD', 'AXG9N4QFS4QYP', 'AZMHABTPXVLG3', 'A2E9IR4TGNXY6L', 'A1JDT2X4BYHZZL', 'A3SMT15X2QVUR8', 'A1EWYZI4ZHU9XZ', 'A2RCV60MNI5VTV', 'A136IQFGB01KQB', 'A7IZNVL7JXLM', 'AZVME8JMPD3F4', 'AENULRBQ2IE5I', 'A2BB6IKKR4G40J', 'A126XEMCLHPBNZ', 'A36OSNJ4YJSGEP', 'A3VINMY1DIEHL7', 'A3FUKVX3B48315', 'A2QMNA0ZT6XMRR', 'A330W6L217G0U6', 'AFBETARDFURG', 'AWV58YYFEAUL0', 'A21DER2RMJIDX7', 'A2FC9LNES7BVOJ', 'A1SFZ6FGGM3D2U', 'A1NN5S1D0ZTK6W', 'A2FCEH4VOA71GU', 'A14CQY582WMP7O', 'A1XJKAH0QCUVWD', 'A1JJ61UV88EAP5', 'A372X4QU0YYLSM', 'A3JXFUXN03IUT5', 'A1LHKVHP38M046', 'A29PEU8AQGFQ9X', 'A2DE5UPQJSIPKR', 'A386KVFXZR6XL8', 'ANADY67KNW4Z', 'A1GXJW4152V4LJ', 'A1YYGXVZA97XFO', 'AJO5UGNMFVDJN', 'A2PTJ004ZPRVHX', 'A1URXSRV6WDHVY', 'A2PX3NR1IVTXPG', 'A2SPZP1PYXBR28', 'A6LFRQ7HMWS1G', 'A1BS6JMSKOYWC9', 'A37T74W067OYPB', 'A20HEID734XSTW', 'A2R7B3MUR22USI', 'ATJQOAUHB5XB8', 'AJH2W783HOXZV', 'A14HVB7CVCYTIY', 'A2VSNUK7YLRKRE', 'A1HZRYGGNMOWRQ', 'AD4QZUGLI9OSK', 'AAON97IT5IHP2', 'APQTAELJ74I07', 'A2CARFAX5FNQT9', 'A3NK6WKA7GKRZS', 'A2SNKWR5D203ZX', 'A19AXCVXAM7NM2', 'A1LCG14GZJI5LO', 'A1FO10Z93GKN33', 'A3D1A0YHTT0E9G', 'A2Y4PRG2HHOL3G', 'A1ZQVN0F0FURHH', 'ACWH4WJMC5UFN', 'ANZGC4YCEQC6W', 'A1F5HMIDLSR3EF', 'A3EH9SDPD1FGEA', 'A30HTJ530SMRB7', 'A2JZY5POMJADL1', 'A3G6KKDMMFQQ5K', 'A3HKX5UIDJ403N', 'ASEBPAY8IBNI2', 'AA4BAIDEDJI3', 'A2H629SI5VJGRM', 'A2R4YQNCYMS8M7', 'A1YAR5PTXNRA7X', 'A1LJXZC1RFW07C', 'A2YWZRHDA9KDS4', 'A2U7DXDNYBBLQJ', 'A146H4KN4LFR60', 'A2Q6KC2KU2T0OL', 'ABKNRVFFLEA3M', 'A2MVPY9XVYST9H', 'A3923UGIPX0QQM', 'A1ZD690RCXOSB', 'A2JMJVNTBL7K7E', 'A22T4H0CPT6UJP', 'AMEZJVXMSEPY0', 'AOMEH9W6LHC4S', 'A1JOANG98KBFKU', 'A5SRLPK9A3LG', 'A2PBMCBT1R8TTL', 'A1WSFFFG0SL1XJ', 'A394SBIRC4A8S9', 'A1SMCTGDM2LK7X', 'A2E4JXFRLSUX53', 'AODIJK065X72D', 'A1NBZI880S5VXU', 'A1K5IL77GZEVKQ', 'A39RL01WOC0Q0Q', 'A3KOWHTH4J4ZIK', 'A27E9UEA5ZMTN5', 'A3NRNJN4GAQ2V6', 'A3V2GMLAKW4X4Y', 'A24FQKYEPUQBRG', 'A1TYYT15KT9TDQ', 'A1QDSJZQWJZOL1', 'A3DOIOHQ19H1BP', 'A2W8OGJDV7TCMT', 'A3TBMAWIIHKHFN', 'A2WA8TDCTGUADI', 'ABJG6JTYTX9M0', 'A3DLRCC45S85QN', 'A1YR3RVSBZK8CW', 'APVLFUAI3IDF7', 'A1T9A8YD2FU9UF', 'A2F42NSN3HKRCU', 'A25QPZOMZTFFV8', 'A151EUL2C4GJNE', 'A3HMFQWM9Q21SD', 'AKGWRO6IC0VIE', 'A3AZ44SMA0QNW7', 'A3DAURGJAL0Y0S', 'A37WW789WSY81F', 'AD6FULWPPOJ3R', 'ALYZ6K2FC7VZC', 'A3G40OIPT4I040', 'ANAOLDUUS8E3G', 'A22810LZ1TDWH2', 'ATPP3IWN4S9PW', 'A30KA8I5AHSKJZ', 'A2M1BW5AQLJLOB', 'A178O10M2U0XDC', 'A1HJ1H7EIPFBRK', 'A2M93TVNC93C3P', 'A3KZ3Y88P6CAMA', 'A2P2ST28QAZMJI', 'AJCAVTHZFM0J3', 'A3L0BF1DJ22V9R', 'A2VAD79S4A06DD', 'A1NJMJNF0MOBSL', 'A2F300193C5XH9', 'A2S8G6OVAK19EX', 'A2RNPVQP4EPGRZ', 'A3UJUX6RZ9WVCB', 'A2U4KTDIVI8KMR', 'A3IDC5FP52KJWJ', 'A2OTSI6BXB4CT3', 'A18DTTRCYR8TD7', 'A34AJKMVLJCOSI', 'A3SJP0GZNZJ0XE', 'A2ISZAYDM4Y791', 'A2E2KYE92LF0T7', 'AX11NOUMV8G95', 'AB7WPLA1CN5I1', 'A1VBRBWX7SVCVX', 'A2BHAEL2Q4HR4A', 'A3A4UKJUP34E18', 'A2FY8306QHI5LE', 'A1JCRZEQACX4V4', 'AZMIKIG4BB6BZ', 'A1RPGT25Q5QSKU', 'A2ZGBCQPF5Q17N', 'A2VRAT69JDAD3W', 'A3L51MT8QKSULJ', 'A306NASGVUDFKF', 'A1CKZGG8OQ2DTS', 'A3VG7F7SZUK87S', 'A2101DHHDMZ93X', 'A3IY9JZZ36OQSV', 'AI3UHRU7ZBXFL', 'A1ZMV5QSAR8V2L', 'A6OLPMJ9HH4IP', 'A3H4PZB9PGMWAA', 'A27H0T39U3FZB5', 'A3621QMU492VV4', 'A52REIMRM97HV', 'AKAVVQMXSAIGX', 'A1QN075G0OKBWJ', 'AQK01UMFP9MND', 'AFFH3F0W6N3MY', 'A3W2EOWTZVIGC9', 'AZPDO6FLSMLFP', 'A37KJ0QD8HYF7A', 'A21N9ACLVOMDLP', 'A245MWTMXYXXHY', 'A1ROUMJOGO4QMB', 'A2T8JRVJRVNX8R', 'A355HGZDEPHHC5', 'A200D8BOPMR35S', 'A2TSUJLFHB61W3', 'A3177U36QW4EJB', 'A2BZQNBV8UDZ2C', 'A2HBAYOAKSXIY2', 'A3RBEESTJUZQ6D', 'A3TN5X62JAXGFB', 'A8OBY4EP2OCDZ', 'A20JJ8634DG3FS', 'A1WHGNU87BGJ2S', 'A31JRW1DW3SZ2K', 'A2JRFV125VJ71R', 'A32H7YO8K1XS9E', 'A2WJBUGJ39ZSC8', 'A1P11QY9RR3IA7', 'A29B4PAIOL7HYG', 'A13IKQCJKFAP5S', 'AUOGMXLRRLVE1', 'AX69H7INJKE76', 'A3KCR3MWWKM7C1', 'A342XAA3YXGKT9', 'A3G9836LYVXE7A', 'AVOKN4NDZCN78', 'A2WDY3XDWDFNYG', 'A2LXCPYCPZJVW4', 'A2AM4SM8ZA1D9W', 'A1MH7LD4Y203Q5', 'ASGRCZLCNBELE', 'AHF7SNSZPRNCE', 'A2LJ6YNOZU6ND', 'A1VEGHXI0Q61XA', 'AO7WPPUO75BBK', 'A3B4L653KYTW55', 'A1KO6FM2PGCYC8', 'A33PUQETQAM8XT', 'A3J7KKG9O7KAZM', 'A2C6Z7M3RMUG45', 'A3AAUG2Z6BD186', 'A3R4794K2RVU1S', 'A10E3QH2FQUBLF', 'A3FMD34MRUJJ3I', 'A14FMSW73W220M', 'A25T143MKB0K82', 'ACXJSNO821XUG', 'A18X90KMZ6KZ3H', 'A35CRCL7WVUCYG', 'A2PP4G3DLGDD4T', 'A2EQ8GHKXEF141', 'A1A45K51O5W6WS', 'ACP8IZY0RS49F', 'A3CG1XH8G9AFSK', 'A2IFKMKKXV8AVU', 'A2HIRKOAFQQLBE', 'A10APIDAZISWQF', 'A2206923NH9ZDI', 'ATSVUBE2115N1', 'A2BRKLV7FQ1HVS', 'AWYE428W5MRQN', 'A18ZKZXXA3WHSJ', 'A00625243BI8W1SSZNLMD', 'A3PGVJF37JSHFO', 'AKPVT396SPLII', 'A1MV8LXEXO8EWC', 'A3ARMRKIJUQ6LS', 'ATB2PLCVQ2XC9', 'ANAKK5KNUAP17', 'A3GTUNDBLPC00I', 'A2Z7S8B5U4PAKJ', 'AM870TTAD2RFT', 'A16MRPHIU3JUXF', 'A2K5JT08E0WTWR', 'A27V6PS7Y83OIV', 'A1WSJ7PT9GTD6B', 'A195TE92PMQTJ5', 'A2E3Q52SJS00K2', 'A1BI6SL4H95QI2', 'A1JN3UIUZAHF7V', 'A1T4U9CAQ25IBR', 'A1NMFQP9ZR23AH', 'A2QEH1K92PBWMQ', 'AUH2DKYUU7KC9', 'AZAYBFPLEDFL7', 'A1SJ32WZWVEI61', 'AYJJDQQ4EZ5V3', 'A3QEWM5EWFPTE9', 'A1MU6PI3YDK8H0', 'A14UXBBB68V9R0', 'A1WJVU9KICHFI', 'A36378CQKPA2G', 'A3AGHEETVTCBQI', 'A2P8WJLFW9NDYN', 'A1HR4TQ0HAGU8T', 'A2IZ3ST24HSO4H', 'A3G6P4SJ8SYH9F', 'A1W93CKNN8D6L2', 'A3SJ2NETSL6D5R', 'AXMYGK3WC8BPP', 'A2I9SZ9A7Y3I4G', 'A1TF131MUR8E2E', 'A2VWNZNFV8QCP0', 'A8DCZN408QYKC', 'A1V3N0LF1QGG0X', 'A14V6CXN8ZWZOS', 'A2XSWF2AJSXQZB', 'A27TXR7VCI5FKS', 'ADETB8KEATML7', 'A19SEZVIVAMGVZ', 'A3QO0ZJPSDMDW3', 'A6M441DQ7HL09', 'A28X8QQ97HM6CX', 'A36P367G4ZH6Z0', 'A3237FOR4LVBZO', 'A1ZV3RNQH852U2', 'A3CVZRPQH1PFQ5', 'AF7AQHLX1UV1Z', 'A4S2GMZIQKEHY', 'AJGIN15VFGXBG', 'A3W5BERPNVRXR6', 'AVF06892OWGJU', 'A1QRF5KISDOKPA', 'AXTOICJWZBAJ0', 'A1BCRHGUE3ZWEU', 'A1BW6F3GAM38XV', 'A1SDGIC08LD6BW', 'A13GMS7FWV3TQ0', 'A3KX8SVSUCSHKU', 'A2VGVG7IFBRSML', 'A3N7Y9QXT9LS9C', 'A1KCRFFQDLE7MA', 'A26GUM1C5M1E51', 'A33LV2M1PAJZ45', 'A21M5LI1AU7184', 'ANVQ2KPZUNR4R', 'A35QR07ZW63T65', 'A2744KNJHWVXMZ', 'A2AC3WEXSIOQQ7', 'A38SICZYZTLDQ9', 'A1C6T412QATCAJ', 'A2VY4F62JE9HCJ', 'ADH957M2NJJ8Z', 'A2MHK6C40Z54TB', 'A2IMZNPSJGB2HQ', 'A12DQZKRKTNF5E', 'A17IU5NX3UC84G', 'A1J9HY0AG5676', 'A3J7IC7M8ZSXNU', 'AC2S76UKUPIL4', 'A3MONHA5DCPPLZ', 'ASYHYW0USZVN6', 'A10044ECXDUVKS', 'A3MLQDXQPVNB2O', 'A3IS1RBMOOULWI', 'A3EA7KGYC8LB0', 'A2STXHBNXM1B0Z', 'A3347V0SDFHQBA', 'AYQ46BHSK99YV', 'A14B2YH83ZXMPP', 'A2IROAVGAK1G0S', 'AYTKUTAP0VA53', 'A1KMDDMQEXV0HJ', 'A38DCVO9SZHW68', 'A2FAF1J19NO0ID', 'A1B3CNORXB1USI', 'A298INOY52JEH8', 'A1TLMSOE1VRDZI', 'AJ03X8Z6RZZ27', 'A3GEMQFMP0PH48', 'A1QAT2Y011KWFX', 'A194BLXLSNY8SE', 'AV8MDYLHHTUOY', 'A1LH6RF4UN9VI6', 'A3SH7VETIJJ7LA', 'A1K3NQAO49LXL2', 'A1XEX009ZR6WXG', 'A3J1M5WTA3ST77', 'A2O8BAXJPDSV0M', 'A54S9CIUV5VNB', 'ASSWUAOO49Z8Q', 'A2OPSPL8LSSJPC', 'AOZBVGFIUY44X', 'A2T8TWZAWLQWBV', 'AW1VA3H8A5N12', 'A3W2VF6D09B2RN', 'A2FIYNFKZQXGWO', 'A2ICKZFBMHCMUK', 'AWYXB9L41T82S', 'A1EFXXRDV40C4E', 'A29J3SX31FB2HN', 'AZCP5P3BARLS5', 'A2E5YEDFENFZYC', 'A1YOLMONF9LIVJ', 'A3DJUUPM321IFI', 'A2CZIZD0RZ566T', 'A9KOC3PXLXYSB', 'A1VR0GV8LPJYNF', 'A2EW01G2LNJN06', 'A300S5QIIMBQNH', 'A3LBEIXA1JL28I', 'A3SU1JZBMQ5ABZ', 'A3DPGV307X2498', 'A1BNFL98NKJNYA', 'AWCJ12KBO5VII', 'A35Z3TBNCQU3VY', 'A3GOS8Y7DV0E4X', 'A99K7S15XOQ45', 'A1NGFLLBENI6FG', 'A2SXC5WGKDRV7H', 'A2Y2U697SS98E1', 'AUQ38SIELJDPU', 'A1ZXTQA6K1YOJ0', 'A2BGK8HGC28AJI', 'APN77K8OVE97N', 'A1S0NIJ5PDREYV', 'A1AYYN6YUIDWVG', 'AIRZAEK6LLYQ', 'A2X3UAK5HLALMJ', 'AL8K7SWTLZ12X', 'A1DZDG9AT98298', 'A3GA66OGQOI3EZ', 'A5JP93NSIK41I', 'A1P9JI4TR933JX', 'AJZWAEYCF43WH', 'A3KIOG0NDTJ32D', 'A12P4A1OC41KUO', 'AFAK8WG4O8INK', 'A3ABAA36CZVYNX', 'AZ9KESC05F6RI', 'A1ZGNCN1VRUO1H', 'A1ZRXGT8QJXGET', 'A1D086N00QVF8Z', 'A1WJBJUQ24G8BU', 'A2Z1BOQPVQK2M4', 'AM8M5BAQRIXY5', 'A2RCAS1WJ5Z8VI', 'A20SQURQ3G1BGY', 'AKP6IWJ24C1A5', 'A2UGCWC46V7PPG', 'A2SRCVYVHA6G19', 'APXEAZI8E8GES', 'A8E9VWP5EQH6B', 'A1AOD8N6LJYHBU', 'AU3GYRAKBUAEU', 'A3HKWOC783B7PL', 'A2X1F0WUJJP0FC', 'AVP5CCREISHVX', 'A10VG94SAKVSC0', 'A1H7JRH18L2BXG', 'A29XLZLRNBWBZ8', 'A1ZT70OIIY7N5M', 'A2D8OM8XL872DO', 'A2RIXSMGE9VIBG', 'A1YURS42Z635HR', 'A1WNM3PI4QSUCB', 'A3D38B289R1U21', 'A1Y8BQ5R1SGGVD', 'A2JPRN080WBJ4N', 'A3J8U952XAL34Z', 'A1F4FQAW2G9FRA', 'AR64CEBJWBICU', 'A2FFJCRIYMCVCZ', 'AMCZ6QJGKH110', 'A3TRV1IG0M1PHK', 'AA8SWH4Y5SN8H', 'A3KNGMX2RVQG91', 'A3N93PUHEMQU34', 'AJUXP5GEE2VRP', 'AU2TEZYYXKLL', 'A2KWOC600DMC0W', 'A9VAK8UG2G5W7', 'A3ARPUKCI6R91Y', 'A1BZHWOFQ9W3BP', 'A3SQ2WX9CAJCKZ', 'AJ0PG46QD33RD', 'A2ZYE710E5YYCW', 'A3F49ZMUC1GSRP', 'A26U7I13QO5E0C', 'AEKID8YBJSV8K', 'ASWMQ58EJL0RF', 'A1ZYSJS573OQ5P', 'A24Z0TLWP8FXGV', 'A2Z7KQUGJRKZL9', 'AMTQJ1ZZ58BO4', 'A19J3XY4IO2OYC', 'A3FSC2BQQHFXWT', 'AQJXACOTDMH03', 'AOEZK60W1DUQZ', 'AOFLZO8T1IF3B', 'ACFBLRCKLPR00', 'A1KF61HK8BM4D2', 'A1NIX2WA2ZKLV7', 'AAHV0LYDMZGY8', 'A1803TC7DCT5ZA', 'AIAH54R6EL4V8', 'ALEFGB3G2BYG8', 'A3RI2C0RY4DHK', 'A10B2J2IRQXBWA', 'A2S3DQ0BL6KSM1', 'ARE879SUUYGVP', 'AO68X66YOJGQI', 'A3CUQ8L2S9ZW0H', 'A3I23DPVLDXAB2', 'A24QFMD1RXLJMB', 'A1YTMYDNMTQXLE', 'A1RI71C4IQZZGF', 'A18VM3LYCTBV3E', 'A1THTWOPC9UOS4', 'A35YS5ND3K5FN', 'A25K93BZ8GX9ZC', 'ACY9QYNDFLVBI', 'A1T9SCT89JJ96', 'A263G5WS7JFRY1', 'A3EYCAYIIBDXUF', 'A1CSB9FS3SLHJO', 'A3OA4DV4L81N1D', 'AAPQB8YDQ3RRE', 'A1J7PW0AEAEDP4', 'A1VW19Y79DC0GF', 'AGX9PFO7K90DJ', 'A19J1LI2AQ2JB8', 'A2Z3IXZ17E88J4', 'AWBZIK5JYWB5J', 'A3KF2K1ZMAZSX4', 'A1VHYBN1NV73LZ', 'A1FJBWP2R3NSH4', 'A3G4YMDOTVWP5V', 'A3J1EO6778PPTH', 'A1JTDD2GQ66AOO', 'A33IMLYIVBG5Z4', 'A3NAA6BH9LWIH4', 'A2MFJ6C67AL015', 'A9AETC0WEPZAM', 'A3KZEGBTPH6MMF', 'A27EWIL4YBWTA0', 'A14JBDSWKPKTZA', 'A3HH71P93ZWAMB', 'A3A7Y3TSPPZU9T'])"
      ]
     },
     "execution_count": 74,
     "metadata": {},
     "output_type": "execute_result"
    }
   ],
   "source": [
    "user_to_item.keys()"
   ]
  },
  {
   "cell_type": "markdown",
   "metadata": {},
   "source": [
    "# User-User Reccomendation\n"
   ]
  },
  {
   "cell_type": "code",
   "execution_count": null,
   "metadata": {
    "collapsed": true
   },
   "outputs": [],
   "source": [
    "def jaccard_similarity(a,b):\n",
    "    union_count = 0\n",
    "    total_count = 0\n",
    "    a_users = item_to_user[a] #list of users who bought a\n",
    "    #print(a_users)\n",
    "    b_users = item_to_user[b] #list of users who bought b\n",
    "   # print(b_users)\n",
    "    i = len(intersection(a_users, b_users))\n",
    "    j = len(a_users) + len(b_users) - i\n",
    "    return i/j\n",
    "    \n",
    "                \n",
    "def intersection(lst1, lst2): \n",
    "    lst3 = [value for value in lst1 if value in lst2] \n",
    "    return lst3\n"
   ]
  }
 ],
 "metadata": {
  "kernelspec": {
   "display_name": "Python 3",
   "language": "python",
   "name": "python3"
  },
  "language_info": {
   "codemirror_mode": {
    "name": "ipython",
    "version": 3
   },
   "file_extension": ".py",
   "mimetype": "text/x-python",
   "name": "python",
   "nbconvert_exporter": "python",
   "pygments_lexer": "ipython3",
   "version": "3.6.3"
  }
 },
 "nbformat": 4,
 "nbformat_minor": 2
}
