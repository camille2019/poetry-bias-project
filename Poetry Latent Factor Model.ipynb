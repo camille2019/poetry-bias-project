{
 "cells": [
  {
   "cell_type": "code",
   "execution_count": 10,
   "metadata": {
    "collapsed": true
   },
   "outputs": [],
   "source": [
    "import random\n",
    "import pandas as pd\n",
    "from collections import defaultdict\n",
    "import numpy as np\n",
    "import json\n",
    "import gzip\n",
    "import json\n",
    "import os\n",
    "import heapq\n",
    "import seaborn as sns\n",
    "import matplotlib.pyplot as plt"
   ]
  },
  {
   "cell_type": "code",
   "execution_count": 11,
   "metadata": {},
   "outputs": [
    {
     "data": {
      "text/html": [
       "<div>\n",
       "<style>\n",
       "    .dataframe thead tr:only-child th {\n",
       "        text-align: right;\n",
       "    }\n",
       "\n",
       "    .dataframe thead th {\n",
       "        text-align: left;\n",
       "    }\n",
       "\n",
       "    .dataframe tbody tr th {\n",
       "        vertical-align: top;\n",
       "    }\n",
       "</style>\n",
       "<table border=\"1\" class=\"dataframe\">\n",
       "  <thead>\n",
       "    <tr style=\"text-align: right;\">\n",
       "      <th></th>\n",
       "      <th>name</th>\n",
       "      <th>gender</th>\n",
       "    </tr>\n",
       "  </thead>\n",
       "  <tbody>\n",
       "    <tr>\n",
       "      <th>0</th>\n",
       "      <td>Arthur Millier</td>\n",
       "      <td>male</td>\n",
       "    </tr>\n",
       "    <tr>\n",
       "      <th>1</th>\n",
       "      <td>Helen Little</td>\n",
       "      <td>female</td>\n",
       "    </tr>\n",
       "    <tr>\n",
       "      <th>2</th>\n",
       "      <td>Michael Moskowitz</td>\n",
       "      <td>male</td>\n",
       "    </tr>\n",
       "    <tr>\n",
       "      <th>3</th>\n",
       "      <td>Katherine Schober</td>\n",
       "      <td>female</td>\n",
       "    </tr>\n",
       "    <tr>\n",
       "      <th>4</th>\n",
       "      <td>Yingcong Dai</td>\n",
       "      <td>female</td>\n",
       "    </tr>\n",
       "  </tbody>\n",
       "</table>\n",
       "</div>"
      ],
      "text/plain": [
       "                name  gender\n",
       "0     Arthur Millier    male\n",
       "1       Helen Little  female\n",
       "2  Michael Moskowitz    male\n",
       "3  Katherine Schober  female\n",
       "4       Yingcong Dai  female"
      ]
     },
     "execution_count": 11,
     "metadata": {},
     "output_type": "execute_result"
    }
   ],
   "source": [
    "df_gender = []\n",
    "with gzip.open(\"C:/Users/Camille's PC/Documents/UCLEADS2019/authorBias/data/librarything_author_gender.json.gz\") as fin:\n",
    "    for l in fin:\n",
    "        #print(l)\n",
    "        d = json.loads(l)\n",
    "        if d['author_gender'] != 'n/a':\n",
    "            df_gender.append([d['author_name'], d['author_gender']])\n",
    "df_gender = pd.DataFrame(df_gender, columns=['name', 'gender']).drop_duplicates()\n",
    "df_gender.head()"
   ]
  },
  {
   "cell_type": "code",
   "execution_count": 18,
   "metadata": {},
   "outputs": [
    {
     "name": "stderr",
     "output_type": "stream",
     "text": [
      "C:\\ProgramData\\Anaconda3\\lib\\site-packages\\ipykernel_launcher.py:9: SettingWithCopyWarning: \n",
      "A value is trying to be set on a copy of a slice from a DataFrame.\n",
      "Try using .loc[row_indexer,col_indexer] = value instead\n",
      "\n",
      "See the caveats in the documentation: http://pandas.pydata.org/pandas-docs/stable/indexing.html#indexing-view-versus-copy\n",
      "  if __name__ == '__main__':\n",
      "C:\\ProgramData\\Anaconda3\\lib\\site-packages\\ipykernel_launcher.py:10: SettingWithCopyWarning: \n",
      "A value is trying to be set on a copy of a slice from a DataFrame.\n",
      "Try using .loc[row_indexer,col_indexer] = value instead\n",
      "\n",
      "See the caveats in the documentation: http://pandas.pydata.org/pandas-docs/stable/indexing.html#indexing-view-versus-copy\n",
      "  # Remove the CWD from sys.path while we load stuff.\n",
      "C:\\ProgramData\\Anaconda3\\lib\\site-packages\\ipykernel_launcher.py:11: SettingWithCopyWarning: \n",
      "A value is trying to be set on a copy of a slice from a DataFrame\n",
      "\n",
      "See the caveats in the documentation: http://pandas.pydata.org/pandas-docs/stable/indexing.html#indexing-view-versus-copy\n",
      "  # This is added back by InteractiveShellApp.init_path()\n"
     ]
    },
    {
     "data": {
      "text/html": [
       "<div>\n",
       "<style>\n",
       "    .dataframe thead tr:only-child th {\n",
       "        text-align: right;\n",
       "    }\n",
       "\n",
       "    .dataframe thead th {\n",
       "        text-align: left;\n",
       "    }\n",
       "\n",
       "    .dataframe tbody tr th {\n",
       "        vertical-align: top;\n",
       "    }\n",
       "</style>\n",
       "<table border=\"1\" class=\"dataframe\">\n",
       "  <thead>\n",
       "    <tr style=\"text-align: right;\">\n",
       "      <th></th>\n",
       "      <th>book_id</th>\n",
       "      <th>title</th>\n",
       "      <th>author_id</th>\n",
       "      <th>author_gender</th>\n",
       "    </tr>\n",
       "  </thead>\n",
       "  <tbody>\n",
       "    <tr>\n",
       "      <th>3</th>\n",
       "      <td>15861988</td>\n",
       "      <td>Into Temptation</td>\n",
       "      <td>2988946</td>\n",
       "      <td>female</td>\n",
       "    </tr>\n",
       "    <tr>\n",
       "      <th>4</th>\n",
       "      <td>9495428</td>\n",
       "      <td>Dark Sons</td>\n",
       "      <td>25492</td>\n",
       "      <td>female</td>\n",
       "    </tr>\n",
       "    <tr>\n",
       "      <th>5</th>\n",
       "      <td>554372</td>\n",
       "      <td>Geografías</td>\n",
       "      <td>30195</td>\n",
       "      <td>male</td>\n",
       "    </tr>\n",
       "    <tr>\n",
       "      <th>6</th>\n",
       "      <td>20544060</td>\n",
       "      <td>Black Liquor: Poems</td>\n",
       "      <td>547708</td>\n",
       "      <td>male</td>\n",
       "    </tr>\n",
       "    <tr>\n",
       "      <th>8</th>\n",
       "      <td>2067880</td>\n",
       "      <td>Cornflakes: Poems</td>\n",
       "      <td>68669</td>\n",
       "      <td>male</td>\n",
       "    </tr>\n",
       "  </tbody>\n",
       "</table>\n",
       "</div>"
      ],
      "text/plain": [
       "    book_id                title author_id author_gender\n",
       "3  15861988      Into Temptation   2988946        female\n",
       "4   9495428            Dark Sons     25492        female\n",
       "5    554372           Geografías     30195          male\n",
       "6  20544060  Black Liquor: Poems    547708          male\n",
       "8   2067880    Cornflakes: Poems     68669          male"
      ]
     },
     "execution_count": 18,
     "metadata": {},
     "output_type": "execute_result"
    }
   ],
   "source": [
    "df_author = []\n",
    "with gzip.open(os.path.join(\"C:/Users/Camille's PC/Documents/UCLEADS2019/authorBias/data/\", 'goodreads_books_matched_poetry.json.gz')) as fin:\n",
    "    for l in fin:\n",
    "        \n",
    "        d = json.loads(l)\n",
    "        df_author.append([d['book_id'],d['title'],[i['author_id'] for i in d['authors']], [j['gender'] for j in d['authors']]])\n",
    "df_author = pd.DataFrame(df_author, columns=['book_id','title','author_id', 'author_gender'])\n",
    "single_authors_only = df_author[df_author['author_id'].str.len() ==1]\n",
    "single_authors_only['author_id'] = single_authors_only['author_id'].map(lambda x: x[0])\n",
    "single_authors_only['author_gender'] = single_authors_only['author_gender'].map(lambda x: x[0])\n",
    "single_authors_only.drop( single_authors_only['author_gender']  == 'None', inplace=True)\n",
    "single_authors_only.head()"
   ]
  },
  {
   "cell_type": "code",
   "execution_count": 31,
   "metadata": {},
   "outputs": [],
   "source": [
    "poetry_reviews = []\n",
    "with gzip.open(os.path.join(\"C:/Users/Camille's PC/Documents/UCLEADS2019/authorBias/data/\", 'goodreads_reviews_matched_poetry_en.json.gz')) as fin:\n",
    "    for l in fin:\n",
    "        d = json.loads(l)\n",
    "        user = d['user_id']\n",
    "        book = d['book_id']\n",
    "        poetry_reviews.append([user,book, d['review_id'], d['rating']])\n",
    "poetry_reviews = pd.DataFrame(poetry_reviews, columns=['user_id','book_id','review_id', 'rating'])\n",
    "gb = poetry_reviews.groupby(\"user_id\").filter(lambda x: len(x) >= 5)\n",
    "user_author = gb.merge(single_authors_only, on='book_id', how='left').dropna()"
   ]
  },
  {
   "cell_type": "code",
   "execution_count": 32,
   "metadata": {},
   "outputs": [
    {
     "data": {
      "text/plain": [
       "26913"
      ]
     },
     "execution_count": 32,
     "metadata": {},
     "output_type": "execute_result"
    }
   ],
   "source": [
    "len(user_author)"
   ]
  },
  {
   "cell_type": "code",
   "execution_count": 33,
   "metadata": {
    "collapsed": true
   },
   "outputs": [],
   "source": [
    "training_data = {}\n",
    "for index, row in user_author.iterrows():\n",
    "     # access data using column names\n",
    "    training_data[(row['user_id'], row['book_id'])] = row['rating']"
   ]
  },
  {
   "cell_type": "code",
   "execution_count": 34,
   "metadata": {},
   "outputs": [],
   "source": [
    "user_to_book = {}\n",
    "book_to_user = {}\n",
    "book_to_title = {}\n",
    "for index, row in user_author.iterrows():\n",
    "    user, book, title =row['user_id'], row['book_id'], row['title']\n",
    "    if user in user_to_book.keys():\n",
    "        user_to_book[user].add(book)\n",
    "    else:\n",
    "        user_to_book[user] = set()\n",
    "        user_to_book[user].add(book)\n",
    "            \n",
    "    if book in book_to_user.keys():\n",
    "        book_to_user[book].add(user)\n",
    "    else:\n",
    "        book_to_user[book] = set()\n",
    "        book_to_user[book].add(user)\n",
    "        \n",
    "    if book in book_to_title.keys():\n",
    "        book_to_title[book].add(title)\n",
    "    else:\n",
    "        book_to_title[book] = set()\n",
    "        book_to_title[book].add(title)"
   ]
  },
  {
   "cell_type": "code",
   "execution_count": 35,
   "metadata": {
    "collapsed": true
   },
   "outputs": [],
   "source": [
    "all_users = list(user_to_book.keys())\n",
    "all_items = list(book_to_user.keys())"
   ]
  },
  {
   "cell_type": "code",
   "execution_count": null,
   "metadata": {},
   "outputs": [
    {
     "name": "stdout",
     "output_type": "stream",
     "text": [
      "begin gradient descent\n",
      "iteration number 0\n",
      "iteration number 5000\n",
      "iteration number 10000\n"
     ]
    }
   ],
   "source": [
    "#latent factor model\n",
    "#perform grad descent\n",
    "n=5\n",
    "P= np.random.rand(len(all_users),n)\n",
    "Q= np.random.rand(n, len(all_items))\n",
    "alpha = 3\n",
    "beta_u = np.random.rand(len(all_users),1)\n",
    "beta_i = np.random.rand(len(all_items), 1)\n",
    "index=0\n",
    "lmbda = .05 #lambda hyperparam\n",
    "gamma= .01 #gamma hyperparam\n",
    "iterations = 25000\n",
    "#try batch grad descent,or  try increasing learning rate and adding regularization terms\n",
    "test_pair = random.choice(list(training_data.keys()))\n",
    "(t_userId,t_itemId) = test_pair \n",
    "t_u = all_users.index(t_userId)    \n",
    "t_i = all_items.index(t_itemId)\n",
    "\n",
    "print(\"begin gradient descent\")\n",
    "for i in range(iterations):\n",
    "    if i %5000==0:\n",
    "        print(\"iteration number \" + str(i) )\n",
    "       # gamma = gamma*.1\n",
    "\n",
    "    pair = random.choice(list(training_data.keys()))\n",
    "    r_ui = training_data[pair]\n",
    "    (userId,itemId) = pair    \n",
    "    uIndex = all_users.index(userId)    \n",
    "    iIndex = all_items.index(itemId)\n",
    "    summation = 0\n",
    "    #print((Q[:,iIndex]).shape)\n",
    "    q_val = np.zeros((Q[:,iIndex]).shape) #innefiicient to make 2 different 2 matricies each loop, more effiecent to \n",
    "    p_val = np.zeros((P[uIndex,:]).shape)\n",
    "    \n",
    "    for j in range(n):\n",
    "        summation += np.dot(P[uIndex][j],Q[j][iIndex])\n",
    "        q_val += Q[j][iIndex]\n",
    "        p_val += P[uIndex][j]\n",
    "    grad_a = -2*(r_ui -(alpha + beta_u[uIndex] +beta_i[iIndex] + summation)) \n",
    "    grad_bu = 2*(r_ui -(alpha + beta_u[uIndex]+beta_i[iIndex] + summation))*-1\n",
    "    grad_bi = 2*(r_ui -(alpha + beta_u[uIndex]+beta_i[iIndex] + summation))*-1\n",
    "    grad_p = 2*(r_ui -(alpha + beta_u[uIndex]+beta_i[iIndex] + summation))*-q_val.T + lmbda*2*p_val\n",
    "    grad_q =  2*(r_ui -(alpha + beta_u[uIndex]+beta_i[iIndex] + summation))*-p_val.T + lmbda*2*q_val\n",
    "\n",
    "    \n",
    "    alpha = alpha - gamma*grad_a\n",
    "    beta_u[uIndex] = beta_u[uIndex] - gamma*grad_bu #change to only update relevent element of beta vector\n",
    "    beta_i[iIndex] = beta_i[iIndex] - gamma*grad_bi\n",
    "    P[uIndex,:] = P[uIndex,:] - gamma*grad_p\n",
    "    Q[:,iIndex] = Q[:,iIndex] - gamma*grad_q\n",
    "    if i ==iterations -1 :\n",
    "        print(\"Current MSE: \")\n",
    "        training_mse = 0\n",
    "        for pair in training_data.keys():\n",
    "            real_rating = training_data[pair]\n",
    "            (userId,itemId) = pair\n",
    "            userindex = all_users.index(userId)\n",
    "            itemindex = all_items.index(itemId)\n",
    "            pred_rating = alpha[0] + beta_u[userindex][0] +beta_i[itemindex][0] + np.dot(P[userindex],(Q.T)[itemindex]) + lmbda*(np.dot(P[userindex],P[userindex])+np.dot((Q.T)[itemindex],(Q.T)[itemindex])) \n",
    "            training_mse += (real_rating- pred_rating)**2\n",
    "        print(str(training_mse/len(training_data.keys())))\n",
    "    "
   ]
  },
  {
   "cell_type": "code",
   "execution_count": 43,
   "metadata": {},
   "outputs": [
    {
     "name": "stdout",
     "output_type": "stream",
     "text": [
      "1.1365782188966467\n"
     ]
    }
   ],
   "source": [
    "training_mse = 0\n",
    "for pair in training_data.keys():\n",
    "    real_rating = training_data[pair]\n",
    "    (userId,itemId) = pair\n",
    "    userindex = all_users.index(userId)\n",
    "    itemindex = all_items.index(itemId)\n",
    "    pred_rating = alpha[0] + beta_u[userindex][0] +beta_i[itemindex][0] + np.dot(P[userindex],(Q.T)[itemindex]) + lmbda*(np.dot(P[userindex],P[userindex])+np.dot((Q.T)[itemindex],(Q.T)[itemindex])) \n",
    "    training_mse += (real_rating- pred_rating)**2\n",
    "print(str(training_mse/len(training_data.keys())))"
   ]
  },
  {
   "cell_type": "markdown",
   "metadata": {},
   "source": [
    "lmbda = .005 lambda hyperparam\n",
    "gamma= .01 gamma hyperparam\n",
    "iterations = 25000\n",
    "1.1365782188966467\n",
    "\n",
    "lmbda = .01 #lambda hyperparam\n",
    "gamma= .01 #gamma hyperparam\n",
    "iterations = 25000\n",
    "1.1243317662190484\n",
    "\n",
    "lmbda = .05 #lambda hyperparam\n",
    "gamma= .01 #gamma hyperparam\n",
    "iterations = 25000\n",
    "1.1656186143471832"
   ]
  },
  {
   "cell_type": "code",
   "execution_count": null,
   "metadata": {
    "collapsed": true
   },
   "outputs": [],
   "source": []
  },
  {
   "cell_type": "markdown",
   "metadata": {},
   "source": [
    "# Produce Recommendations with LFM\n",
    "1) Get list of users and the set of all books\n",
    "2) For each user in the list: \n",
    "    a) remove the books this user has purchased from set\n",
    "    b) find index of highest predicted rating books\n",
    "    c) return 50 highest rated books\n"
   ]
  },
  {
   "cell_type": "code",
   "execution_count": 46,
   "metadata": {},
   "outputs": [
    {
     "data": {
      "text/plain": [
       "1000"
      ]
     },
     "execution_count": 46,
     "metadata": {},
     "output_type": "execute_result"
    }
   ],
   "source": [
    "main = user_author.groupby(\"user_id\").filter(lambda x: len(x) >= 5)\n",
    "srs = main.drop_duplicates('user_id')['user_id'].sample(n=1000,random_state=24 )\n",
    "srs.count()"
   ]
  },
  {
   "cell_type": "code",
   "execution_count": 51,
   "metadata": {},
   "outputs": [],
   "source": [
    "#rating produced by r_ui = P[u]*Q[i]\n",
    "users = srs.tolist() #list of all the users in the sample\n",
    "#all_items - list of all books\n",
    "#userindex = all_users.index(userId) - get index from id for user \n",
    "#itemindex = all_items.index(itemId) - get index from id for book\n",
    "user_to_recs = {}\n",
    "num_recs = 50\n",
    "for u in users:\n",
    "    possible_recs = set(book_to_user.keys())\n",
    "    purchased_books = user_to_book[u]\n",
    "    current_user_index = all_users.index(u)\n",
    "    this_user_recs = {}\n",
    "    for book in possible_recs:\n",
    "        if book not in purchased_books:\n",
    "            book_index = all_items.index(book)\n",
    "            pred_rating = alpha[0] + beta_u[current_user_index] +beta_i[book_index][0] + np.dot(P[current_user_index],(Q.T)[book_index]) + lmbda*(np.dot(P[current_user_index],P[current_user_index])+np.dot((Q.T)[book_index],(Q.T)[book_index])) \n",
    "            this_user_recs[book] = pred_rating\n",
    "    user_to_recs[u] = heapq.nlargest(num_recs, this_user_recs.keys())\n",
    "    "
   ]
  },
  {
   "cell_type": "code",
   "execution_count": 63,
   "metadata": {},
   "outputs": [
    {
     "data": {
      "text/plain": [
       "0.16021583717629295"
      ]
     },
     "execution_count": 63,
     "metadata": {},
     "output_type": "execute_result"
    }
   ],
   "source": [
    "beta_i[book_index][0]"
   ]
  },
  {
   "cell_type": "code",
   "execution_count": 52,
   "metadata": {},
   "outputs": [
    {
     "name": "stdout",
     "output_type": "stream",
     "text": [
      "overall proportion:  0.35946\n"
     ]
    }
   ],
   "source": [
    "rec_ratio = {}\n",
    "proportions = []\n",
    "running_total_females = 0\n",
    "running_overall_total = 0\n",
    "users= set(user_to_recs.keys())\n",
    "\n",
    "\n",
    "for u in users:\n",
    "    recs = user_to_recs[u]\n",
    "    #print(recs)\n",
    "    total_reviews = len(recs)\n",
    "    num_females = len(single_authors_only[(single_authors_only['book_id'].isin(recs)) & (single_authors_only['author_gender'] =='female')]['book_id'].unique())\n",
    "    \n",
    "    ratio = num_females/total_reviews\n",
    "    running_total_females += num_females\n",
    "    running_overall_total += total_reviews\n",
    "    rec_ratio[u] = ratio\n",
    "    proportions.append(ratio)\n",
    "print(\"overall proportion: \", str(running_total_females/running_overall_total))"
   ]
  },
  {
   "cell_type": "code",
   "execution_count": 59,
   "metadata": {},
   "outputs": [
    {
     "name": "stderr",
     "output_type": "stream",
     "text": [
      "C:\\ProgramData\\Anaconda3\\lib\\site-packages\\scipy\\stats\\stats.py:1633: FutureWarning: Using a non-tuple sequence for multidimensional indexing is deprecated; use `arr[tuple(seq)]` instead of `arr[seq]`. In the future this will be interpreted as an array index, `arr[np.array(seq)]`, which will result either in an error or a different result.\n",
      "  return np.add.reduce(sorted[indexer] * weights, axis=axis) / sumval\n"
     ]
    },
    {
     "data": {
      "image/png": "[encoded data removed]",
      "text/plain": [
       "<matplotlib.figure.Figure at 0x1f726f80f98>"
      ]
     },
     "metadata": {},
     "output_type": "display_data"
    }
   ],
   "source": [
    "sns_plot = sns.distplot(proportions, kde=False, color='b', rug=False).set_title(\"Proportion of Female Authored Recommendations for Latent Factor Model\")\n",
    "fig = sns_plot.get_figure()\n",
    "fig.savefig(\"LFM_rec_proportion_noKDE.png\")\n",
    "plt.show()"
   ]
  },
  {
   "cell_type": "code",
   "execution_count": 58,
   "metadata": {},
   "outputs": [
    {
     "data": {
      "text/html": [
       "<div>\n",
       "<style>\n",
       "    .dataframe thead tr:only-child th {\n",
       "        text-align: right;\n",
       "    }\n",
       "\n",
       "    .dataframe thead th {\n",
       "        text-align: left;\n",
       "    }\n",
       "\n",
       "    .dataframe tbody tr th {\n",
       "        vertical-align: top;\n",
       "    }\n",
       "</style>\n",
       "<table border=\"1\" class=\"dataframe\">\n",
       "  <thead>\n",
       "    <tr style=\"text-align: right;\">\n",
       "      <th></th>\n",
       "      <th>proportion</th>\n",
       "    </tr>\n",
       "  </thead>\n",
       "  <tbody>\n",
       "    <tr>\n",
       "      <th>count</th>\n",
       "      <td>1000.000000</td>\n",
       "    </tr>\n",
       "    <tr>\n",
       "      <th>mean</th>\n",
       "      <td>0.359460</td>\n",
       "    </tr>\n",
       "    <tr>\n",
       "      <th>std</th>\n",
       "      <td>0.003915</td>\n",
       "    </tr>\n",
       "    <tr>\n",
       "      <th>min</th>\n",
       "      <td>0.340000</td>\n",
       "    </tr>\n",
       "    <tr>\n",
       "      <th>25%</th>\n",
       "      <td>0.360000</td>\n",
       "    </tr>\n",
       "    <tr>\n",
       "      <th>50%</th>\n",
       "      <td>0.360000</td>\n",
       "    </tr>\n",
       "    <tr>\n",
       "      <th>75%</th>\n",
       "      <td>0.360000</td>\n",
       "    </tr>\n",
       "    <tr>\n",
       "      <th>max</th>\n",
       "      <td>0.380000</td>\n",
       "    </tr>\n",
       "  </tbody>\n",
       "</table>\n",
       "</div>"
      ],
      "text/plain": [
       "        proportion\n",
       "count  1000.000000\n",
       "mean      0.359460\n",
       "std       0.003915\n",
       "min       0.340000\n",
       "25%       0.360000\n",
       "50%       0.360000\n",
       "75%       0.360000\n",
       "max       0.380000"
      ]
     },
     "execution_count": 58,
     "metadata": {},
     "output_type": "execute_result"
    }
   ],
   "source": [
    "i = pd.DataFrame(data = {'proportion': proportions}) \n",
    "i.describe()"
   ]
  },
  {
   "cell_type": "code",
   "execution_count": null,
   "metadata": {
    "collapsed": true
   },
   "outputs": [],
   "source": []
  }
 ],
 "metadata": {
  "kernelspec": {
   "display_name": "Python 3",
   "language": "python",
   "name": "python3"
  },
  "language_info": {
   "codemirror_mode": {
    "name": "ipython",
    "version": 3
   },
   "file_extension": ".py",
   "mimetype": "text/x-python",
   "name": "python",
   "nbconvert_exporter": "python",
   "pygments_lexer": "ipython3",
   "version": "3.6.3"
  }
 },
 "nbformat": 4,
 "nbformat_minor": 2
}
